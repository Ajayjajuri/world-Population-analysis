{
 "cells": [
  {
   "cell_type": "markdown",
   "id": "f6571d29",
   "metadata": {},
   "source": [
    "# World population analysis"
   ]
  },
  {
   "cell_type": "code",
   "execution_count": 152,
   "id": "0865ca32",
   "metadata": {},
   "outputs": [],
   "source": [
    "import pandas as pd\n",
    "wpa= pd.read_csv(r\"C:\\Users\\ajay a j\\Downloads\\archive (9)\\worldpopulationreview.csv\")"
   ]
  },
  {
   "cell_type": "code",
   "execution_count": null,
   "id": "de6e9505",
   "metadata": {},
   "outputs": [],
   "source": []
  },
  {
   "cell_type": "code",
   "execution_count": 153,
   "id": "687be150",
   "metadata": {},
   "outputs": [
    {
     "data": {
      "text/plain": [
       "(234, 9)"
      ]
     },
     "execution_count": 153,
     "metadata": {},
     "output_type": "execute_result"
    }
   ],
   "source": [
    "wpa.shape"
   ]
  },
  {
   "cell_type": "code",
   "execution_count": 154,
   "id": "a9cbaf83",
   "metadata": {},
   "outputs": [],
   "source": [
    "#there are 234 entries across 9 columns"
   ]
  },
  {
   "cell_type": "code",
   "execution_count": 155,
   "id": "575e9dd6",
   "metadata": {},
   "outputs": [
    {
     "data": {
      "text/html": [
       "<div>\n",
       "<style scoped>\n",
       "    .dataframe tbody tr th:only-of-type {\n",
       "        vertical-align: middle;\n",
       "    }\n",
       "\n",
       "    .dataframe tbody tr th {\n",
       "        vertical-align: top;\n",
       "    }\n",
       "\n",
       "    .dataframe thead th {\n",
       "        text-align: right;\n",
       "    }\n",
       "</style>\n",
       "<table border=\"1\" class=\"dataframe\">\n",
       "  <thead>\n",
       "    <tr style=\"text-align: right;\">\n",
       "      <th></th>\n",
       "      <th>Country Name</th>\n",
       "      <th>Population (Jan 2024)</th>\n",
       "      <th>Population(2023)</th>\n",
       "      <th>Area(km)</th>\n",
       "      <th>Land Area (Km)</th>\n",
       "      <th>Density(/Km)</th>\n",
       "      <th>Growth Rate</th>\n",
       "      <th>World%</th>\n",
       "      <th>Rank</th>\n",
       "    </tr>\n",
       "  </thead>\n",
       "  <tbody>\n",
       "    <tr>\n",
       "      <th>0</th>\n",
       "      <td>India</td>\n",
       "      <td>1,436,397,893</td>\n",
       "      <td>1,428,627,663</td>\n",
       "      <td>3.3M</td>\n",
       "      <td>3M</td>\n",
       "      <td>485</td>\n",
       "      <td>0.92%</td>\n",
       "      <td>18.01%</td>\n",
       "      <td>1</td>\n",
       "    </tr>\n",
       "    <tr>\n",
       "      <th>1</th>\n",
       "      <td>China</td>\n",
       "      <td>1,425,436,213</td>\n",
       "      <td>1,425,671,352</td>\n",
       "      <td>9.7M</td>\n",
       "      <td>9.4M</td>\n",
       "      <td>151</td>\n",
       "      <td>-0.03%</td>\n",
       "      <td>17.8%</td>\n",
       "      <td>2</td>\n",
       "    </tr>\n",
       "    <tr>\n",
       "      <th>2</th>\n",
       "      <td>United States</td>\n",
       "      <td>341,075,762</td>\n",
       "      <td>339,996,563</td>\n",
       "      <td>9.4M</td>\n",
       "      <td>9.1M</td>\n",
       "      <td>37</td>\n",
       "      <td>0.53%</td>\n",
       "      <td>4.27%</td>\n",
       "      <td>3</td>\n",
       "    </tr>\n",
       "    <tr>\n",
       "      <th>3</th>\n",
       "      <td>Indonesia</td>\n",
       "      <td>278,883,459</td>\n",
       "      <td>277,534,122</td>\n",
       "      <td>1.9M</td>\n",
       "      <td>1.9M</td>\n",
       "      <td>149</td>\n",
       "      <td>0.82%</td>\n",
       "      <td>3.5%</td>\n",
       "      <td>4</td>\n",
       "    </tr>\n",
       "    <tr>\n",
       "      <th>4</th>\n",
       "      <td>Pakistan</td>\n",
       "      <td>243,270,676</td>\n",
       "      <td>240,485,658</td>\n",
       "      <td>881.9K</td>\n",
       "      <td>770.9K</td>\n",
       "      <td>318</td>\n",
       "      <td>1.96%</td>\n",
       "      <td>3.06%</td>\n",
       "      <td>5</td>\n",
       "    </tr>\n",
       "    <tr>\n",
       "      <th>5</th>\n",
       "      <td>Nigeria</td>\n",
       "      <td>226,941,418</td>\n",
       "      <td>223,804,632</td>\n",
       "      <td>923.8K</td>\n",
       "      <td>910.8K</td>\n",
       "      <td>252</td>\n",
       "      <td>2.39%</td>\n",
       "      <td>2.86%</td>\n",
       "      <td>6</td>\n",
       "    </tr>\n",
       "    <tr>\n",
       "      <th>6</th>\n",
       "      <td>Brazil</td>\n",
       "      <td>217,149,602</td>\n",
       "      <td>216,422,446</td>\n",
       "      <td>8.5M</td>\n",
       "      <td>8.4M</td>\n",
       "      <td>26</td>\n",
       "      <td>0.56%</td>\n",
       "      <td>2.72%</td>\n",
       "      <td>7</td>\n",
       "    </tr>\n",
       "    <tr>\n",
       "      <th>7</th>\n",
       "      <td>Bangladesh</td>\n",
       "      <td>173,989,719</td>\n",
       "      <td>172,954,319</td>\n",
       "      <td>147.6K</td>\n",
       "      <td>130.2K</td>\n",
       "      <td>1,342</td>\n",
       "      <td>1.01%</td>\n",
       "      <td>2.18%</td>\n",
       "      <td>8</td>\n",
       "    </tr>\n",
       "    <tr>\n",
       "      <th>8</th>\n",
       "      <td>Russia</td>\n",
       "      <td>144,152,416</td>\n",
       "      <td>144,444,359</td>\n",
       "      <td>17.1M</td>\n",
       "      <td>16.4M</td>\n",
       "      <td>9</td>\n",
       "      <td>-0.34%</td>\n",
       "      <td>1.8%</td>\n",
       "      <td>9</td>\n",
       "    </tr>\n",
       "    <tr>\n",
       "      <th>9</th>\n",
       "      <td>Ethiopia</td>\n",
       "      <td>128,405,399</td>\n",
       "      <td>126,527,060</td>\n",
       "      <td>1.1M</td>\n",
       "      <td>1.1M</td>\n",
       "      <td>115</td>\n",
       "      <td>2.52%</td>\n",
       "      <td>1.62%</td>\n",
       "      <td>10</td>\n",
       "    </tr>\n",
       "  </tbody>\n",
       "</table>\n",
       "</div>"
      ],
      "text/plain": [
       "    Country Name Population (Jan 2024) Population(2023) Area(km)  \\\n",
       "0          India         1,436,397,893    1,428,627,663     3.3M   \n",
       "1          China         1,425,436,213    1,425,671,352     9.7M   \n",
       "2  United States           341,075,762      339,996,563     9.4M   \n",
       "3      Indonesia           278,883,459      277,534,122     1.9M   \n",
       "4       Pakistan           243,270,676      240,485,658   881.9K   \n",
       "5        Nigeria           226,941,418      223,804,632   923.8K   \n",
       "6         Brazil           217,149,602      216,422,446     8.5M   \n",
       "7     Bangladesh           173,989,719      172,954,319   147.6K   \n",
       "8         Russia           144,152,416      144,444,359    17.1M   \n",
       "9       Ethiopia           128,405,399      126,527,060     1.1M   \n",
       "\n",
       "  Land Area (Km) Density(/Km) Growth Rate  World%  Rank  \n",
       "0             3M          485       0.92%  18.01%     1  \n",
       "1           9.4M          151      -0.03%   17.8%     2  \n",
       "2           9.1M           37       0.53%   4.27%     3  \n",
       "3           1.9M          149       0.82%    3.5%     4  \n",
       "4         770.9K          318       1.96%   3.06%     5  \n",
       "5         910.8K          252       2.39%   2.86%     6  \n",
       "6           8.4M           26       0.56%   2.72%     7  \n",
       "7         130.2K        1,342       1.01%   2.18%     8  \n",
       "8          16.4M            9      -0.34%    1.8%     9  \n",
       "9           1.1M          115       2.52%   1.62%    10  "
      ]
     },
     "execution_count": 155,
     "metadata": {},
     "output_type": "execute_result"
    }
   ],
   "source": [
    "wpa.head(10)"
   ]
  },
  {
   "cell_type": "markdown",
   "id": "a49032c9",
   "metadata": {},
   "source": [
    "#explore the datatypes\n",
    "wpa.dtypes"
   ]
  },
  {
   "cell_type": "code",
   "execution_count": 156,
   "id": "ef59d060",
   "metadata": {},
   "outputs": [],
   "source": [
    "#All the numericals were taken as object datatypes except rank\n",
    "# we should change all the datatypes\n",
    "\n",
    "wpa[\"Population (Jan 2024)\"] = wpa[\"Population (Jan 2024)\"].str.replace(',', '').astype(float)"
   ]
  },
  {
   "cell_type": "code",
   "execution_count": 157,
   "id": "32b5d694",
   "metadata": {},
   "outputs": [],
   "source": [
    "wpa[\"Population(2023)\"] = wpa[\"Population(2023)\"].str.replace(',', '').astype(float)"
   ]
  },
  {
   "cell_type": "code",
   "execution_count": 158,
   "id": "4859801d",
   "metadata": {},
   "outputs": [],
   "source": [
    "wpa[\"Density(/Km)\"] = wpa[\"Density(/Km)\"].str.replace(',', '').astype(float)\n"
   ]
  },
  {
   "cell_type": "markdown",
   "id": "c3d4059b",
   "metadata": {},
   "source": [
    " for area and land area we need to define a function and change the dataype\n",
    "\n",
    "def convert_to_int(value):\n",
    "    if 'K' in value:\n",
    "        return int(float(value.replace('K', '')) * 1000)\n",
    "    elif 'M' in value:\n",
    "        return int(float(value.replace('M', '')) * 1000000)\n",
    "    else:\n",
    "        return int(value)\n",
    "\n",
    "wpa['Area(km)'] = wpa['Area(km)'].fillna('').apply(convert_to_int)\n"
   ]
  },
  {
   "cell_type": "markdown",
   "id": "4d8a6344",
   "metadata": {},
   "source": [
    " oho erorr ! erorr ! erorr !"
   ]
  },
  {
   "cell_type": "code",
   "execution_count": 159,
   "id": "a4bfaef5",
   "metadata": {},
   "outputs": [],
   "source": [
    "# the values might contain string like \"<1\" which means less than 1 , so we will just replace it with some default value less than one"
   ]
  },
  {
   "cell_type": "code",
   "execution_count": 160,
   "id": "cc32f72a",
   "metadata": {},
   "outputs": [],
   "source": [
    "import pandas as pd\n",
    "\n",
    "def convert_to_float(value):\n",
    "    if 'M' in value:\n",
    "        return float(value.replace('M', '')) * 1e6\n",
    "    elif 'K' in value:\n",
    "        return float(value.replace('K', '')) * 1e3\n",
    "    elif '<' in value:\n",
    "        return 0.5 \n",
    "        try:\n",
    "            return float(value)\n",
    "        except ValueError:\n",
    "            return None \n",
    "\n",
    "\n",
    "wpa['Area(km)'] = wpa['Area(km)'].apply(convert_to_float)"
   ]
  },
  {
   "cell_type": "code",
   "execution_count": 161,
   "id": "80040b41",
   "metadata": {},
   "outputs": [],
   "source": [
    "# first we will check if land area contains values like \"<1\" then we will proceed with chaanging data types\n"
   ]
  },
  {
   "cell_type": "code",
   "execution_count": 162,
   "id": "f9a9e04d",
   "metadata": {},
   "outputs": [
    {
     "name": "stdout",
     "output_type": "stream",
     "text": [
      "check_LA\n"
     ]
    }
   ],
   "source": [
    "check_LA = wpa['Land Area (Km)'].str.contains('<*',na=False)\n",
    "print('check_LA')"
   ]
  },
  {
   "cell_type": "code",
   "execution_count": 163,
   "id": "f1fe7602",
   "metadata": {},
   "outputs": [],
   "source": [
    "\n",
    "wpa['Land Area (Km)'] = wpa['Land Area (Km)'].apply(convert_to_float)"
   ]
  },
  {
   "cell_type": "code",
   "execution_count": 164,
   "id": "f345ad79",
   "metadata": {},
   "outputs": [],
   "source": [
    "# we will just convert the \"growth rate\" and \"world\" which are in str to percenatge"
   ]
  },
  {
   "cell_type": "code",
   "execution_count": 165,
   "id": "571d1fb0",
   "metadata": {},
   "outputs": [],
   "source": [
    "wpa['Growth Rate'] = wpa['Growth Rate'].str.rstrip('%').astype('float') \n",
    "# it will replace the % \n"
   ]
  },
  {
   "cell_type": "code",
   "execution_count": 166,
   "id": "cbae6bb2",
   "metadata": {},
   "outputs": [],
   "source": [
    "wpa['World%'] = wpa['World%'].str.rstrip('%').astype('float') "
   ]
  },
  {
   "cell_type": "code",
   "execution_count": 167,
   "id": "6fdffdb1",
   "metadata": {},
   "outputs": [
    {
     "data": {
      "text/plain": [
       "Country Name              object\n",
       "Population (Jan 2024)    float64\n",
       "Population(2023)         float64\n",
       "Area(km)                 float64\n",
       "Land Area (Km)           float64\n",
       "Density(/Km)             float64\n",
       "Growth Rate              float64\n",
       "World%                   float64\n",
       "Rank                       int64\n",
       "dtype: object"
      ]
     },
     "execution_count": 167,
     "metadata": {},
     "output_type": "execute_result"
    }
   ],
   "source": [
    "#check the datatypes now\n",
    "\n",
    "wpa.dtypes"
   ]
  },
  {
   "cell_type": "code",
   "execution_count": 168,
   "id": "bac836ef",
   "metadata": {},
   "outputs": [
    {
     "data": {
      "text/html": [
       "<div>\n",
       "<style scoped>\n",
       "    .dataframe tbody tr th:only-of-type {\n",
       "        vertical-align: middle;\n",
       "    }\n",
       "\n",
       "    .dataframe tbody tr th {\n",
       "        vertical-align: top;\n",
       "    }\n",
       "\n",
       "    .dataframe thead th {\n",
       "        text-align: right;\n",
       "    }\n",
       "</style>\n",
       "<table border=\"1\" class=\"dataframe\">\n",
       "  <thead>\n",
       "    <tr style=\"text-align: right;\">\n",
       "      <th></th>\n",
       "      <th>Population (Jan 2024)</th>\n",
       "      <th>Population(2023)</th>\n",
       "      <th>Area(km)</th>\n",
       "      <th>Land Area (Km)</th>\n",
       "      <th>Density(/Km)</th>\n",
       "      <th>Growth Rate</th>\n",
       "      <th>World%</th>\n",
       "      <th>Rank</th>\n",
       "    </tr>\n",
       "  </thead>\n",
       "  <tbody>\n",
       "    <tr>\n",
       "      <th>count</th>\n",
       "      <td>2.240000e+02</td>\n",
       "      <td>2.340000e+02</td>\n",
       "      <td>1.840000e+02</td>\n",
       "      <td>1.840000e+02</td>\n",
       "      <td>234.000000</td>\n",
       "      <td>232.000000</td>\n",
       "      <td>177.000000</td>\n",
       "      <td>234.000000</td>\n",
       "    </tr>\n",
       "    <tr>\n",
       "      <th>mean</th>\n",
       "      <td>3.609288e+07</td>\n",
       "      <td>3.437442e+07</td>\n",
       "      <td>7.390701e+05</td>\n",
       "      <td>7.087647e+05</td>\n",
       "      <td>453.788248</td>\n",
       "      <td>0.927974</td>\n",
       "      <td>0.572768</td>\n",
       "      <td>117.500000</td>\n",
       "    </tr>\n",
       "    <tr>\n",
       "      <th>std</th>\n",
       "      <td>1.406560e+08</td>\n",
       "      <td>1.373864e+08</td>\n",
       "      <td>1.959063e+06</td>\n",
       "      <td>1.879849e+06</td>\n",
       "      <td>1990.163274</td>\n",
       "      <td>1.138805</td>\n",
       "      <td>1.964105</td>\n",
       "      <td>67.694165</td>\n",
       "    </tr>\n",
       "    <tr>\n",
       "      <th>min</th>\n",
       "      <td>1.935000e+03</td>\n",
       "      <td>5.180000e+02</td>\n",
       "      <td>5.000000e-01</td>\n",
       "      <td>5.000000e-01</td>\n",
       "      <td>0.140000</td>\n",
       "      <td>-3.090000</td>\n",
       "      <td>0.010000</td>\n",
       "      <td>1.000000</td>\n",
       "    </tr>\n",
       "    <tr>\n",
       "      <th>25%</th>\n",
       "      <td>6.261740e+05</td>\n",
       "      <td>4.225982e+05</td>\n",
       "      <td>3.552500e+04</td>\n",
       "      <td>3.227500e+04</td>\n",
       "      <td>39.500000</td>\n",
       "      <td>0.200000</td>\n",
       "      <td>0.040000</td>\n",
       "      <td>59.250000</td>\n",
       "    </tr>\n",
       "    <tr>\n",
       "      <th>50%</th>\n",
       "      <td>6.285490e+06</td>\n",
       "      <td>5.643895e+06</td>\n",
       "      <td>1.637000e+05</td>\n",
       "      <td>1.557000e+05</td>\n",
       "      <td>98.500000</td>\n",
       "      <td>0.800000</td>\n",
       "      <td>0.130000</td>\n",
       "      <td>117.500000</td>\n",
       "    </tr>\n",
       "    <tr>\n",
       "      <th>75%</th>\n",
       "      <td>2.450796e+07</td>\n",
       "      <td>2.324537e+07</td>\n",
       "      <td>5.832500e+05</td>\n",
       "      <td>5.673000e+05</td>\n",
       "      <td>248.250000</td>\n",
       "      <td>1.577500</td>\n",
       "      <td>0.440000</td>\n",
       "      <td>175.750000</td>\n",
       "    </tr>\n",
       "    <tr>\n",
       "      <th>max</th>\n",
       "      <td>1.436398e+09</td>\n",
       "      <td>1.428628e+09</td>\n",
       "      <td>1.710000e+07</td>\n",
       "      <td>1.640000e+07</td>\n",
       "      <td>21674.000000</td>\n",
       "      <td>4.830000</td>\n",
       "      <td>18.010000</td>\n",
       "      <td>234.000000</td>\n",
       "    </tr>\n",
       "  </tbody>\n",
       "</table>\n",
       "</div>"
      ],
      "text/plain": [
       "       Population (Jan 2024)  Population(2023)      Area(km)  Land Area (Km)  \\\n",
       "count           2.240000e+02      2.340000e+02  1.840000e+02    1.840000e+02   \n",
       "mean            3.609288e+07      3.437442e+07  7.390701e+05    7.087647e+05   \n",
       "std             1.406560e+08      1.373864e+08  1.959063e+06    1.879849e+06   \n",
       "min             1.935000e+03      5.180000e+02  5.000000e-01    5.000000e-01   \n",
       "25%             6.261740e+05      4.225982e+05  3.552500e+04    3.227500e+04   \n",
       "50%             6.285490e+06      5.643895e+06  1.637000e+05    1.557000e+05   \n",
       "75%             2.450796e+07      2.324537e+07  5.832500e+05    5.673000e+05   \n",
       "max             1.436398e+09      1.428628e+09  1.710000e+07    1.640000e+07   \n",
       "\n",
       "       Density(/Km)  Growth Rate      World%        Rank  \n",
       "count    234.000000   232.000000  177.000000  234.000000  \n",
       "mean     453.788248     0.927974    0.572768  117.500000  \n",
       "std     1990.163274     1.138805    1.964105   67.694165  \n",
       "min        0.140000    -3.090000    0.010000    1.000000  \n",
       "25%       39.500000     0.200000    0.040000   59.250000  \n",
       "50%       98.500000     0.800000    0.130000  117.500000  \n",
       "75%      248.250000     1.577500    0.440000  175.750000  \n",
       "max    21674.000000     4.830000   18.010000  234.000000  "
      ]
     },
     "execution_count": 168,
     "metadata": {},
     "output_type": "execute_result"
    }
   ],
   "source": [
    "# All are changed , now we can  begin with statistical analysis\n",
    "# for that we will use describe() \n",
    "wpa.describe()"
   ]
  },
  {
   "cell_type": "code",
   "execution_count": 169,
   "id": "81d659bd",
   "metadata": {},
   "outputs": [
    {
     "data": {
      "text/html": [
       "<div>\n",
       "<style scoped>\n",
       "    .dataframe tbody tr th:only-of-type {\n",
       "        vertical-align: middle;\n",
       "    }\n",
       "\n",
       "    .dataframe tbody tr th {\n",
       "        vertical-align: top;\n",
       "    }\n",
       "\n",
       "    .dataframe thead th {\n",
       "        text-align: right;\n",
       "    }\n",
       "</style>\n",
       "<table border=\"1\" class=\"dataframe\">\n",
       "  <thead>\n",
       "    <tr style=\"text-align: right;\">\n",
       "      <th></th>\n",
       "      <th>Country Name</th>\n",
       "      <th>Population (Jan 2024)</th>\n",
       "      <th>Population(2023)</th>\n",
       "      <th>Area(km)</th>\n",
       "      <th>Land Area (Km)</th>\n",
       "      <th>Density(/Km)</th>\n",
       "      <th>Growth Rate</th>\n",
       "      <th>World%</th>\n",
       "      <th>Rank</th>\n",
       "    </tr>\n",
       "  </thead>\n",
       "  <tbody>\n",
       "    <tr>\n",
       "      <th>0</th>\n",
       "      <td>India</td>\n",
       "      <td>1.436398e+09</td>\n",
       "      <td>1.428628e+09</td>\n",
       "      <td>3300000.0</td>\n",
       "      <td>3000000.0</td>\n",
       "      <td>485.00</td>\n",
       "      <td>0.92</td>\n",
       "      <td>18.01</td>\n",
       "      <td>1</td>\n",
       "    </tr>\n",
       "    <tr>\n",
       "      <th>1</th>\n",
       "      <td>China</td>\n",
       "      <td>1.425436e+09</td>\n",
       "      <td>1.425671e+09</td>\n",
       "      <td>9700000.0</td>\n",
       "      <td>9400000.0</td>\n",
       "      <td>151.00</td>\n",
       "      <td>-0.03</td>\n",
       "      <td>17.80</td>\n",
       "      <td>2</td>\n",
       "    </tr>\n",
       "    <tr>\n",
       "      <th>2</th>\n",
       "      <td>United States</td>\n",
       "      <td>3.410758e+08</td>\n",
       "      <td>3.399966e+08</td>\n",
       "      <td>9400000.0</td>\n",
       "      <td>9100000.0</td>\n",
       "      <td>37.00</td>\n",
       "      <td>0.53</td>\n",
       "      <td>4.27</td>\n",
       "      <td>3</td>\n",
       "    </tr>\n",
       "    <tr>\n",
       "      <th>3</th>\n",
       "      <td>Indonesia</td>\n",
       "      <td>2.788835e+08</td>\n",
       "      <td>2.775341e+08</td>\n",
       "      <td>1900000.0</td>\n",
       "      <td>1900000.0</td>\n",
       "      <td>149.00</td>\n",
       "      <td>0.82</td>\n",
       "      <td>3.50</td>\n",
       "      <td>4</td>\n",
       "    </tr>\n",
       "    <tr>\n",
       "      <th>4</th>\n",
       "      <td>Pakistan</td>\n",
       "      <td>2.432707e+08</td>\n",
       "      <td>2.404857e+08</td>\n",
       "      <td>881900.0</td>\n",
       "      <td>770900.0</td>\n",
       "      <td>318.00</td>\n",
       "      <td>1.96</td>\n",
       "      <td>3.06</td>\n",
       "      <td>5</td>\n",
       "    </tr>\n",
       "    <tr>\n",
       "      <th>...</th>\n",
       "      <td>...</td>\n",
       "      <td>...</td>\n",
       "      <td>...</td>\n",
       "      <td>...</td>\n",
       "      <td>...</td>\n",
       "      <td>...</td>\n",
       "      <td>...</td>\n",
       "      <td>...</td>\n",
       "      <td>...</td>\n",
       "    </tr>\n",
       "    <tr>\n",
       "      <th>229</th>\n",
       "      <td>Montserrat</td>\n",
       "      <td>NaN</td>\n",
       "      <td>4.386000e+03</td>\n",
       "      <td>NaN</td>\n",
       "      <td>NaN</td>\n",
       "      <td>43.00</td>\n",
       "      <td>-0.32</td>\n",
       "      <td>NaN</td>\n",
       "      <td>230</td>\n",
       "    </tr>\n",
       "    <tr>\n",
       "      <th>230</th>\n",
       "      <td>Falkland Islands</td>\n",
       "      <td>NaN</td>\n",
       "      <td>3.791000e+03</td>\n",
       "      <td>12200.0</td>\n",
       "      <td>12200.0</td>\n",
       "      <td>0.31</td>\n",
       "      <td>0.32</td>\n",
       "      <td>NaN</td>\n",
       "      <td>231</td>\n",
       "    </tr>\n",
       "    <tr>\n",
       "      <th>231</th>\n",
       "      <td>Niue</td>\n",
       "      <td>1.935000e+03</td>\n",
       "      <td>1.935000e+03</td>\n",
       "      <td>NaN</td>\n",
       "      <td>NaN</td>\n",
       "      <td>7.00</td>\n",
       "      <td>NaN</td>\n",
       "      <td>NaN</td>\n",
       "      <td>232</td>\n",
       "    </tr>\n",
       "    <tr>\n",
       "      <th>232</th>\n",
       "      <td>Tokelau</td>\n",
       "      <td>NaN</td>\n",
       "      <td>1.893000e+03</td>\n",
       "      <td>NaN</td>\n",
       "      <td>NaN</td>\n",
       "      <td>192.00</td>\n",
       "      <td>1.16</td>\n",
       "      <td>NaN</td>\n",
       "      <td>233</td>\n",
       "    </tr>\n",
       "    <tr>\n",
       "      <th>233</th>\n",
       "      <td>Vatican City</td>\n",
       "      <td>NaN</td>\n",
       "      <td>5.180000e+02</td>\n",
       "      <td>0.5</td>\n",
       "      <td>0.5</td>\n",
       "      <td>1195.00</td>\n",
       "      <td>1.54</td>\n",
       "      <td>NaN</td>\n",
       "      <td>234</td>\n",
       "    </tr>\n",
       "  </tbody>\n",
       "</table>\n",
       "<p>234 rows × 9 columns</p>\n",
       "</div>"
      ],
      "text/plain": [
       "         Country Name  Population (Jan 2024)  Population(2023)   Area(km)  \\\n",
       "0               India           1.436398e+09      1.428628e+09  3300000.0   \n",
       "1               China           1.425436e+09      1.425671e+09  9700000.0   \n",
       "2       United States           3.410758e+08      3.399966e+08  9400000.0   \n",
       "3           Indonesia           2.788835e+08      2.775341e+08  1900000.0   \n",
       "4            Pakistan           2.432707e+08      2.404857e+08   881900.0   \n",
       "..                ...                    ...               ...        ...   \n",
       "229        Montserrat                    NaN      4.386000e+03        NaN   \n",
       "230  Falkland Islands                    NaN      3.791000e+03    12200.0   \n",
       "231              Niue           1.935000e+03      1.935000e+03        NaN   \n",
       "232           Tokelau                    NaN      1.893000e+03        NaN   \n",
       "233      Vatican City                    NaN      5.180000e+02        0.5   \n",
       "\n",
       "     Land Area (Km)  Density(/Km)  Growth Rate  World%  Rank  \n",
       "0         3000000.0        485.00         0.92   18.01     1  \n",
       "1         9400000.0        151.00        -0.03   17.80     2  \n",
       "2         9100000.0         37.00         0.53    4.27     3  \n",
       "3         1900000.0        149.00         0.82    3.50     4  \n",
       "4          770900.0        318.00         1.96    3.06     5  \n",
       "..              ...           ...          ...     ...   ...  \n",
       "229             NaN         43.00        -0.32     NaN   230  \n",
       "230         12200.0          0.31         0.32     NaN   231  \n",
       "231             NaN          7.00          NaN     NaN   232  \n",
       "232             NaN        192.00         1.16     NaN   233  \n",
       "233             0.5       1195.00         1.54     NaN   234  \n",
       "\n",
       "[234 rows x 9 columns]"
      ]
     },
     "execution_count": 169,
     "metadata": {},
     "output_type": "execute_result"
    }
   ],
   "source": [
    "# check for duplicates\n",
    "wpa.drop_duplicates()"
   ]
  },
  {
   "cell_type": "markdown",
   "id": "49fbf5f3",
   "metadata": {},
   "source": [
    "there are no dupliates present"
   ]
  },
  {
   "cell_type": "markdown",
   "id": "da3340b0",
   "metadata": {},
   "source": [
    "### check for missing values"
   ]
  },
  {
   "cell_type": "code",
   "execution_count": 170,
   "id": "4a8df1e5",
   "metadata": {},
   "outputs": [
    {
     "data": {
      "text/plain": [
       "Country Name              0\n",
       "Population (Jan 2024)    10\n",
       "Population(2023)          0\n",
       "Area(km)                 50\n",
       "Land Area (Km)           50\n",
       "Density(/Km)              0\n",
       "Growth Rate               2\n",
       "World%                   57\n",
       "Rank                      0\n",
       "dtype: int64"
      ]
     },
     "execution_count": 170,
     "metadata": {},
     "output_type": "execute_result"
    }
   ],
   "source": [
    "wpa.isnull().sum()"
   ]
  },
  {
   "cell_type": "code",
   "execution_count": 171,
   "id": "344adfba",
   "metadata": {},
   "outputs": [
    {
     "data": {
      "text/plain": [
       "<Axes: >"
      ]
     },
     "execution_count": 171,
     "metadata": {},
     "output_type": "execute_result"
    },
    {
     "data": {
      "image/png": "[encoded data removed]",
      "text/plain": [
       "<Figure size 640x480 with 2 Axes>"
      ]
     },
     "metadata": {},
     "output_type": "display_data"
    }
   ],
   "source": [
    "# 5 values are miussing values, we can delete the columns having missing values more than 50 but we may lose some impt information \n",
    "# so it's better to go with imputing \n",
    "# check with heatmap\n",
    "import matplotlib.pyplot as plt\n",
    "import numpy as np\n",
    "%matplotlib inline\n",
    "import seaborn as sns\n",
    "sns.heatmap(wpa.isnull())\n"
   ]
  },
  {
   "cell_type": "code",
   "execution_count": 172,
   "id": "e1966852",
   "metadata": {},
   "outputs": [
    {
     "data": {
      "text/plain": [
       "0"
      ]
     },
     "execution_count": 172,
     "metadata": {},
     "output_type": "execute_result"
    }
   ],
   "source": [
    "wpa['Country Name'].duplicated().sum()"
   ]
  },
  {
   "cell_type": "code",
   "execution_count": 173,
   "id": "fa922ba4",
   "metadata": {},
   "outputs": [
    {
     "data": {
      "text/plain": [
       "234"
      ]
     },
     "execution_count": 173,
     "metadata": {},
     "output_type": "execute_result"
    }
   ],
   "source": [
    "wpa['Country Name'].count()"
   ]
  },
  {
   "cell_type": "code",
   "execution_count": 174,
   "id": "c73d51ff",
   "metadata": {},
   "outputs": [],
   "source": [
    "# no country is repeated \n"
   ]
  },
  {
   "cell_type": "markdown",
   "id": "820682f0",
   "metadata": {},
   "source": [
    "### missing values imputation"
   ]
  },
  {
   "cell_type": "code",
   "execution_count": 175,
   "id": "a2b60412",
   "metadata": {},
   "outputs": [],
   "source": [
    "# all are numerical so will go with mean\n",
    "wpa['Land Area (Km)']=wpa['Land Area (Km)'].fillna(wpa['Land Area (Km)'].mean())"
   ]
  },
  {
   "cell_type": "code",
   "execution_count": 176,
   "id": "08cc3d08",
   "metadata": {},
   "outputs": [],
   "source": [
    "wpa['Population (Jan 2024)']=wpa['Population (Jan 2024)'].fillna(wpa['Population (Jan 2024)'].mean())\n",
    "wpa['Area(km)']=wpa['Area(km)'].fillna(wpa['Area(km)'].mean())\n",
    "wpa['Growth Rate']=wpa['Growth Rate'].fillna(wpa['Growth Rate'].mean())\n",
    "wpa['World%']=wpa['World%'].fillna(wpa['World%'].mean())"
   ]
  },
  {
   "cell_type": "code",
   "execution_count": 177,
   "id": "bf7f2838",
   "metadata": {},
   "outputs": [
    {
     "data": {
      "text/plain": [
       "Country Name             0\n",
       "Population (Jan 2024)    0\n",
       "Population(2023)         0\n",
       "Area(km)                 0\n",
       "Land Area (Km)           0\n",
       "Density(/Km)             0\n",
       "Growth Rate              0\n",
       "World%                   0\n",
       "Rank                     0\n",
       "dtype: int64"
      ]
     },
     "execution_count": 177,
     "metadata": {},
     "output_type": "execute_result"
    }
   ],
   "source": [
    "wpa.isnull().sum()"
   ]
  },
  {
   "cell_type": "code",
   "execution_count": 178,
   "id": "bfed0a33",
   "metadata": {},
   "outputs": [
    {
     "data": {
      "text/plain": [
       "<Axes: >"
      ]
     },
     "execution_count": 178,
     "metadata": {},
     "output_type": "execute_result"
    },
    {
     "data": {
      "image/png": "[encoded data removed]",
      "text/plain": [
       "<Figure size 640x480 with 2 Axes>"
      ]
     },
     "metadata": {},
     "output_type": "display_data"
    }
   ],
   "source": [
    "sns.heatmap(wpa.isnull())"
   ]
  },
  {
   "cell_type": "markdown",
   "id": "4101fe33",
   "metadata": {},
   "source": [
    "### :) let's begin with Descriptive analysis (statistical measure , visualization)"
   ]
  },
  {
   "cell_type": "code",
   "execution_count": 179,
   "id": "14e60b5c",
   "metadata": {},
   "outputs": [
    {
     "data": {
      "text/plain": [
       "36092880.491071425"
      ]
     },
     "execution_count": 179,
     "metadata": {},
     "output_type": "execute_result"
    }
   ],
   "source": [
    "# Measures of central tendency\n",
    "wpa['Population (Jan 2024)'].mean()"
   ]
  },
  {
   "cell_type": "code",
   "execution_count": 180,
   "id": "a0b842fa",
   "metadata": {},
   "outputs": [
    {
     "data": {
      "text/plain": [
       "0    3.609288e+07\n",
       "Name: Population (Jan 2024), dtype: float64"
      ]
     },
     "execution_count": 180,
     "metadata": {},
     "output_type": "execute_result"
    }
   ],
   "source": [
    "wpa['Population (Jan 2024)'].mode()"
   ]
  },
  {
   "cell_type": "code",
   "execution_count": 181,
   "id": "36720a44",
   "metadata": {},
   "outputs": [
    {
     "data": {
      "text/plain": [
       "6922746.0"
      ]
     },
     "execution_count": 181,
     "metadata": {},
     "output_type": "execute_result"
    }
   ],
   "source": [
    "wpa['Population (Jan 2024)'].median()"
   ]
  },
  {
   "cell_type": "code",
   "execution_count": 182,
   "id": "d1062e2f",
   "metadata": {},
   "outputs": [],
   "source": [
    "# meaures of dispersion"
   ]
  },
  {
   "cell_type": "code",
   "execution_count": 183,
   "id": "e59f1963",
   "metadata": {},
   "outputs": [
    {
     "data": {
      "text/plain": [
       "137604556.65871143"
      ]
     },
     "execution_count": 183,
     "metadata": {},
     "output_type": "execute_result"
    }
   ],
   "source": [
    "#std dev\n",
    "wpa['Population (Jan 2024)'].std()"
   ]
  },
  {
   "cell_type": "code",
   "execution_count": 184,
   "id": "4c91e17e",
   "metadata": {},
   "outputs": [],
   "source": [
    "# std dev indicates larger variability"
   ]
  },
  {
   "cell_type": "code",
   "execution_count": 185,
   "id": "44aac4d9",
   "metadata": {},
   "outputs": [
    {
     "data": {
      "text/plain": [
       "9.129310446463348"
      ]
     },
     "execution_count": 185,
     "metadata": {},
     "output_type": "execute_result"
    }
   ],
   "source": [
    "#measure of symmetry (skewness)\n",
    "wpa['Population (Jan 2024)'].skew()"
   ]
  },
  {
   "cell_type": "code",
   "execution_count": 186,
   "id": "363c8254",
   "metadata": {},
   "outputs": [],
   "source": [
    "# it is a positive skewness "
   ]
  },
  {
   "cell_type": "code",
   "execution_count": 187,
   "id": "76ef1828",
   "metadata": {},
   "outputs": [
    {
     "data": {
      "text/plain": [
       "90.16647365292415"
      ]
     },
     "execution_count": 187,
     "metadata": {},
     "output_type": "execute_result"
    }
   ],
   "source": [
    "#measure of tailedness(kurtosis)\n",
    "wpa['Population (Jan 2024)'].kurt()"
   ]
  },
  {
   "cell_type": "code",
   "execution_count": null,
   "id": "0359383e",
   "metadata": {},
   "outputs": [],
   "source": []
  },
  {
   "cell_type": "code",
   "execution_count": 188,
   "id": "6bb09ad1",
   "metadata": {},
   "outputs": [
    {
     "name": "stderr",
     "output_type": "stream",
     "text": [
      "C:\\Users\\ajay a j\\AppData\\Local\\Temp\\ipykernel_17680\\4181729334.py:1: UserWarning: \n",
      "\n",
      "`distplot` is a deprecated function and will be removed in seaborn v0.14.0.\n",
      "\n",
      "Please adapt your code to use either `displot` (a figure-level function with\n",
      "similar flexibility) or `histplot` (an axes-level function for histograms).\n",
      "\n",
      "For a guide to updating your code to use the new functions, please see\n",
      "https://gist.github.com/mwaskom/de44147ed2974457ad6372750bbe5751\n",
      "\n",
      "  sns.distplot(wpa['Population (Jan 2024)'],bins=10,color='Green')\n"
     ]
    },
    {
     "data": {
      "text/plain": [
       "Text(0.5, 1.0, 'Histogram of Population(Jan 2024)')"
      ]
     },
     "execution_count": 188,
     "metadata": {},
     "output_type": "execute_result"
    },
    {
     "data": {
      "image/png": "[encoded data removed]",
      "text/plain": [
       "<Figure size 640x480 with 1 Axes>"
      ]
     },
     "metadata": {},
     "output_type": "display_data"
    }
   ],
   "source": [
    "sns.distplot(wpa['Population (Jan 2024)'],bins=10,color='Green')\n",
    "plt.title('Histogram of Population(Jan 2024)')"
   ]
  },
  {
   "cell_type": "markdown",
   "id": "fd9ebd69",
   "metadata": {},
   "source": [
    " median is greater than mean suggests that there are some lower-than-average values pulling the mean down and the skewness to the right, with a tail extending towards the lower values"
   ]
  },
  {
   "cell_type": "code",
   "execution_count": 189,
   "id": "ba8251fe",
   "metadata": {},
   "outputs": [
    {
     "name": "stdout",
     "output_type": "stream",
     "text": [
      "mean is: 34374424.743589744\n",
      "median is: 5643895.0\n",
      "mode is: 0      5.180000e+02\n",
      "1      1.893000e+03\n",
      "2      1.935000e+03\n",
      "3      3.791000e+03\n",
      "4      4.386000e+03\n",
      "           ...     \n",
      "229    2.404857e+08\n",
      "230    2.775341e+08\n",
      "231    3.399966e+08\n",
      "232    1.425671e+09\n",
      "233    1.428628e+09\n",
      "Name: Population(2023), Length: 234, dtype: float64\n"
     ]
    }
   ],
   "source": [
    "# check for Population(2023)\n",
    "mean_23 = wpa['Population(2023)'].mean()\n",
    "mode_23 = wpa['Population(2023)'].mode()\n",
    "median_23 =wpa['Population(2023)'].median()\n",
    "\n",
    "print(\"mean is:\",mean_23)\n",
    "print(\"median is:\",median_23)\n",
    "print(\"mode is:\",mode_23)\n"
   ]
  },
  {
   "cell_type": "code",
   "execution_count": 190,
   "id": "d413939f",
   "metadata": {},
   "outputs": [
    {
     "name": "stderr",
     "output_type": "stream",
     "text": [
      "C:\\Users\\ajay a j\\AppData\\Local\\Temp\\ipykernel_17680\\2241417642.py:1: UserWarning: \n",
      "\n",
      "`distplot` is a deprecated function and will be removed in seaborn v0.14.0.\n",
      "\n",
      "Please adapt your code to use either `displot` (a figure-level function with\n",
      "similar flexibility) or `histplot` (an axes-level function for histograms).\n",
      "\n",
      "For a guide to updating your code to use the new functions, please see\n",
      "https://gist.github.com/mwaskom/de44147ed2974457ad6372750bbe5751\n",
      "\n",
      "  sns.distplot(wpa['Population(2023)'],bins=10,color='red')\n"
     ]
    },
    {
     "data": {
      "text/plain": [
       "Text(0.5, 1.0, 'Histogram of Population(2023) ')"
      ]
     },
     "execution_count": 190,
     "metadata": {},
     "output_type": "execute_result"
    },
    {
     "data": {
      "image/png": "[encoded data removed]",
      "text/plain": [
       "<Figure size 640x480 with 1 Axes>"
      ]
     },
     "metadata": {},
     "output_type": "display_data"
    }
   ],
   "source": [
    "sns.distplot(wpa['Population(2023)'],bins=10,color='red')\n",
    "plt.title('Histogram of Population(2023) ')"
   ]
  },
  {
   "cell_type": "code",
   "execution_count": 191,
   "id": "ec1a9803",
   "metadata": {},
   "outputs": [],
   "source": [
    "# it is right skewed (positive skew)"
   ]
  },
  {
   "cell_type": "code",
   "execution_count": 192,
   "id": "09ed8d20",
   "metadata": {},
   "outputs": [
    {
     "name": "stdout",
     "output_type": "stream",
     "text": [
      "mean is: 453.7882478632479\n",
      "median is: 98.5\n",
      "mode is: 0    4.0\n",
      "Name: Density(/Km), dtype: float64\n"
     ]
    }
   ],
   "source": [
    "mean_den = wpa['Density(/Km)'].mean()\n",
    "mode_den = wpa['Density(/Km)'].mode()\n",
    "median_den =wpa['Density(/Km)'].median()\n",
    "\n",
    "print(\"mean is:\",mean_den)\n",
    "print(\"median is:\",median_den)\n",
    "print(\"mode is:\",mode_den)"
   ]
  },
  {
   "cell_type": "code",
   "execution_count": 193,
   "id": "d8979e5d",
   "metadata": {},
   "outputs": [
    {
     "name": "stdout",
     "output_type": "stream",
     "text": [
      "std dev is: 1990.1632743243576\n",
      "skewness is: 8.742454948493274\n",
      "kurtosis is: 82.77470407574563\n"
     ]
    }
   ],
   "source": [
    "# meaures of dispersion\n",
    "std_den = wpa['Density(/Km)'].std()\n",
    "#measure of symmetry\n",
    "skew_den = wpa['Density(/Km)'].skew()\n",
    "#meausre if tailedness\n",
    "kurt_den =wpa['Density(/Km)'].kurt()\n",
    "\n",
    "print(\"std dev is:\",std_den)\n",
    "print(\"skewness is:\",skew_den)\n",
    "print(\"kurtosis is:\",kurt_den)"
   ]
  },
  {
   "cell_type": "markdown",
   "id": "155ab523",
   "metadata": {},
   "source": [
    "it has larger variability with positively skewed and has high tail with some outliers"
   ]
  },
  {
   "cell_type": "code",
   "execution_count": 194,
   "id": "564f38c2",
   "metadata": {},
   "outputs": [
    {
     "name": "stderr",
     "output_type": "stream",
     "text": [
      "C:\\Users\\ajay a j\\AppData\\Local\\Temp\\ipykernel_17680\\42522538.py:1: UserWarning: \n",
      "\n",
      "`distplot` is a deprecated function and will be removed in seaborn v0.14.0.\n",
      "\n",
      "Please adapt your code to use either `displot` (a figure-level function with\n",
      "similar flexibility) or `histplot` (an axes-level function for histograms).\n",
      "\n",
      "For a guide to updating your code to use the new functions, please see\n",
      "https://gist.github.com/mwaskom/de44147ed2974457ad6372750bbe5751\n",
      "\n",
      "  sns.distplot(wpa['Density(/Km)'],bins=50,color='cyan')\n"
     ]
    },
    {
     "data": {
      "text/plain": [
       "Text(0.5, 1.0, 'Histogram of desnity/km')"
      ]
     },
     "execution_count": 194,
     "metadata": {},
     "output_type": "execute_result"
    },
    {
     "data": {
      "image/png": "[encoded data removed]",
      "text/plain": [
       "<Figure size 640x480 with 1 Axes>"
      ]
     },
     "metadata": {},
     "output_type": "display_data"
    }
   ],
   "source": [
    "sns.distplot(wpa['Density(/Km)'],bins=50,color='cyan')\n",
    "plt.title('Histogram of desnity/km')"
   ]
  },
  {
   "cell_type": "markdown",
   "id": "5ae01449",
   "metadata": {},
   "source": [
    "The mean is significantly higher than the median, suggesting a positively skewed distribution. There might be a few very high values pulling the mean to the right."
   ]
  },
  {
   "cell_type": "code",
   "execution_count": 195,
   "id": "3e3f5d58",
   "metadata": {},
   "outputs": [
    {
     "data": {
      "text/plain": [
       "Text(0.5, 1.0, 'boxplot of density/km')"
      ]
     },
     "execution_count": 195,
     "metadata": {},
     "output_type": "execute_result"
    },
    {
     "data": {
      "image/png": "[encoded data removed]",
      "text/plain": [
       "<Figure size 640x480 with 1 Axes>"
      ]
     },
     "metadata": {},
     "output_type": "display_data"
    }
   ],
   "source": [
    "# given the there might be lots of outliers, let's check for it\n",
    "plt.boxplot(wpa['Density(/Km)'])\n",
    "plt.title('boxplot of density/km')"
   ]
  },
  {
   "cell_type": "code",
   "execution_count": 196,
   "id": "4cb0c90f",
   "metadata": {},
   "outputs": [],
   "source": [
    "# As expected the column is filled with ourtliers\n",
    "# We will deal with them later on "
   ]
  },
  {
   "cell_type": "code",
   "execution_count": 197,
   "id": "f7e25ac7",
   "metadata": {},
   "outputs": [
    {
     "name": "stdout",
     "output_type": "stream",
     "text": [
      "mean is: 0.9279741379310347\n",
      "median is: 0.805\n",
      "mode is: 0    0.63\n",
      "1    0.71\n",
      "Name: Growth Rate, dtype: float64\n"
     ]
    }
   ],
   "source": [
    "\n",
    "mean_gr = wpa['Growth Rate'].mean()\n",
    "mode_gr = wpa['Growth Rate'].mode()\n",
    "median_gr =wpa['Growth Rate'].median()\n",
    "\n",
    "print(\"mean is:\",mean_gr)\n",
    "print(\"median is:\",median_gr)\n",
    "print(\"mode is:\",mode_gr)"
   ]
  },
  {
   "cell_type": "code",
   "execution_count": 198,
   "id": "ea80c41c",
   "metadata": {},
   "outputs": [
    {
     "name": "stdout",
     "output_type": "stream",
     "text": [
      "std dev is: 1.1339068923574553\n",
      "skewness is: 0.08571793060891046\n",
      "kurtosis is: 0.7690929739094146\n"
     ]
    }
   ],
   "source": [
    "# meaures of dispersion\n",
    "std_gr = wpa['Growth Rate'].std()\n",
    "#measure of symmetry\n",
    "skew_gr = wpa['Growth Rate'].skew()\n",
    "#meausre if tailedness\n",
    "kurt_gr =wpa['Growth Rate'].kurt()\n",
    "\n",
    "print(\"std dev is:\",std_gr)\n",
    "print(\"skewness is:\",skew_gr)\n",
    "print(\"kurtosis is:\",kurt_gr)"
   ]
  },
  {
   "cell_type": "markdown",
   "id": "d5264df0",
   "metadata": {},
   "source": [
    "It is basically normally distributed from the values considered"
   ]
  },
  {
   "cell_type": "code",
   "execution_count": 199,
   "id": "73236ada",
   "metadata": {},
   "outputs": [
    {
     "name": "stderr",
     "output_type": "stream",
     "text": [
      "C:\\Users\\ajay a j\\AppData\\Local\\Temp\\ipykernel_17680\\2715619680.py:1: UserWarning: \n",
      "\n",
      "`distplot` is a deprecated function and will be removed in seaborn v0.14.0.\n",
      "\n",
      "Please adapt your code to use either `displot` (a figure-level function with\n",
      "similar flexibility) or `histplot` (an axes-level function for histograms).\n",
      "\n",
      "For a guide to updating your code to use the new functions, please see\n",
      "https://gist.github.com/mwaskom/de44147ed2974457ad6372750bbe5751\n",
      "\n",
      "  sns.distplot(wpa['Growth Rate'],bins=10,color='Blue')\n"
     ]
    },
    {
     "data": {
      "text/plain": [
       "Text(0.5, 1.0, 'Histogram of growth rate')"
      ]
     },
     "execution_count": 199,
     "metadata": {},
     "output_type": "execute_result"
    },
    {
     "data": {
      "image/png": "[encoded data removed]",
      "text/plain": [
       "<Figure size 640x480 with 1 Axes>"
      ]
     },
     "metadata": {},
     "output_type": "display_data"
    }
   ],
   "source": [
    "sns.distplot(wpa['Growth Rate'],bins=10,color='Blue')\n",
    "plt.title('Histogram of growth rate')"
   ]
  },
  {
   "cell_type": "markdown",
   "id": "1771432e",
   "metadata": {},
   "source": [
    "Growth rate is right skewed( positive skewed) as the skewness indicates that there are some higher values that are pulling the mean to the right"
   ]
  },
  {
   "cell_type": "code",
   "execution_count": 200,
   "id": "3347f322",
   "metadata": {},
   "outputs": [
    {
     "data": {
      "text/html": [
       "<div>\n",
       "<style scoped>\n",
       "    .dataframe tbody tr th:only-of-type {\n",
       "        vertical-align: middle;\n",
       "    }\n",
       "\n",
       "    .dataframe tbody tr th {\n",
       "        vertical-align: top;\n",
       "    }\n",
       "\n",
       "    .dataframe thead th {\n",
       "        text-align: right;\n",
       "    }\n",
       "</style>\n",
       "<table border=\"1\" class=\"dataframe\">\n",
       "  <thead>\n",
       "    <tr style=\"text-align: right;\">\n",
       "      <th></th>\n",
       "      <th>Country Name</th>\n",
       "      <th>Population (Jan 2024)</th>\n",
       "      <th>Population(2023)</th>\n",
       "      <th>Area(km)</th>\n",
       "      <th>Land Area (Km)</th>\n",
       "      <th>Density(/Km)</th>\n",
       "      <th>Growth Rate</th>\n",
       "      <th>World%</th>\n",
       "      <th>Rank</th>\n",
       "    </tr>\n",
       "  </thead>\n",
       "  <tbody>\n",
       "    <tr>\n",
       "      <th>0</th>\n",
       "      <td>India</td>\n",
       "      <td>1.436398e+09</td>\n",
       "      <td>1.428628e+09</td>\n",
       "      <td>3300000.0</td>\n",
       "      <td>3000000.0</td>\n",
       "      <td>485.0</td>\n",
       "      <td>0.92</td>\n",
       "      <td>18.01</td>\n",
       "      <td>1</td>\n",
       "    </tr>\n",
       "    <tr>\n",
       "      <th>1</th>\n",
       "      <td>China</td>\n",
       "      <td>1.425436e+09</td>\n",
       "      <td>1.425671e+09</td>\n",
       "      <td>9700000.0</td>\n",
       "      <td>9400000.0</td>\n",
       "      <td>151.0</td>\n",
       "      <td>-0.03</td>\n",
       "      <td>17.80</td>\n",
       "      <td>2</td>\n",
       "    </tr>\n",
       "    <tr>\n",
       "      <th>2</th>\n",
       "      <td>United States</td>\n",
       "      <td>3.410758e+08</td>\n",
       "      <td>3.399966e+08</td>\n",
       "      <td>9400000.0</td>\n",
       "      <td>9100000.0</td>\n",
       "      <td>37.0</td>\n",
       "      <td>0.53</td>\n",
       "      <td>4.27</td>\n",
       "      <td>3</td>\n",
       "    </tr>\n",
       "    <tr>\n",
       "      <th>3</th>\n",
       "      <td>Indonesia</td>\n",
       "      <td>2.788835e+08</td>\n",
       "      <td>2.775341e+08</td>\n",
       "      <td>1900000.0</td>\n",
       "      <td>1900000.0</td>\n",
       "      <td>149.0</td>\n",
       "      <td>0.82</td>\n",
       "      <td>3.50</td>\n",
       "      <td>4</td>\n",
       "    </tr>\n",
       "    <tr>\n",
       "      <th>4</th>\n",
       "      <td>Pakistan</td>\n",
       "      <td>2.432707e+08</td>\n",
       "      <td>2.404857e+08</td>\n",
       "      <td>881900.0</td>\n",
       "      <td>770900.0</td>\n",
       "      <td>318.0</td>\n",
       "      <td>1.96</td>\n",
       "      <td>3.06</td>\n",
       "      <td>5</td>\n",
       "    </tr>\n",
       "  </tbody>\n",
       "</table>\n",
       "</div>"
      ],
      "text/plain": [
       "    Country Name  Population (Jan 2024)  Population(2023)   Area(km)  \\\n",
       "0          India           1.436398e+09      1.428628e+09  3300000.0   \n",
       "1          China           1.425436e+09      1.425671e+09  9700000.0   \n",
       "2  United States           3.410758e+08      3.399966e+08  9400000.0   \n",
       "3      Indonesia           2.788835e+08      2.775341e+08  1900000.0   \n",
       "4       Pakistan           2.432707e+08      2.404857e+08   881900.0   \n",
       "\n",
       "   Land Area (Km)  Density(/Km)  Growth Rate  World%  Rank  \n",
       "0       3000000.0         485.0         0.92   18.01     1  \n",
       "1       9400000.0         151.0        -0.03   17.80     2  \n",
       "2       9100000.0          37.0         0.53    4.27     3  \n",
       "3       1900000.0         149.0         0.82    3.50     4  \n",
       "4        770900.0         318.0         1.96    3.06     5  "
      ]
     },
     "execution_count": 200,
     "metadata": {},
     "output_type": "execute_result"
    }
   ],
   "source": [
    "wpa.head(5)"
   ]
  },
  {
   "cell_type": "code",
   "execution_count": 201,
   "id": "cef799d2",
   "metadata": {},
   "outputs": [
    {
     "name": "stdout",
     "output_type": "stream",
     "text": [
      "mean is: 0.5727683615819208\n",
      "median is: 0.28500000000000003\n",
      "mode is: 0    0.572768\n",
      "Name: World%, dtype: float64\n"
     ]
    }
   ],
   "source": [
    "mean_wd = wpa['World%'].mean()\n",
    "mode_wd = wpa['World%'].mode()\n",
    "median_wd =wpa['World%'].median()\n",
    "\n",
    "print(\"mean is:\",mean_wd)\n",
    "print(\"median is:\",median_wd)\n",
    "print(\"mode is:\",mode_wd)"
   ]
  },
  {
   "cell_type": "code",
   "execution_count": 202,
   "id": "27ef80fa",
   "metadata": {},
   "outputs": [
    {
     "name": "stdout",
     "output_type": "stream",
     "text": [
      "std dev is: 1.707037369701434\n",
      "skewness is: 9.159287637043782\n",
      "kurtosis is: 90.77876911776498\n"
     ]
    }
   ],
   "source": [
    "# meaures of dispersion\n",
    "std_wd = wpa['World%'].std()\n",
    "#measure of symmetry\n",
    "skew_wd = wpa['World%'].skew()\n",
    "#meausre if tailedness\n",
    "kurt_wd =wpa['World%'].kurt()\n",
    "\n",
    "print(\"std dev is:\",std_wd)\n",
    "print(\"skewness is:\",skew_wd)\n",
    "print(\"kurtosis is:\",kurt_wd)"
   ]
  },
  {
   "cell_type": "code",
   "execution_count": 203,
   "id": "34b2e2b1",
   "metadata": {},
   "outputs": [
    {
     "name": "stderr",
     "output_type": "stream",
     "text": [
      "C:\\Users\\ajay a j\\AppData\\Local\\Temp\\ipykernel_17680\\1476523297.py:1: UserWarning: \n",
      "\n",
      "`distplot` is a deprecated function and will be removed in seaborn v0.14.0.\n",
      "\n",
      "Please adapt your code to use either `displot` (a figure-level function with\n",
      "similar flexibility) or `histplot` (an axes-level function for histograms).\n",
      "\n",
      "For a guide to updating your code to use the new functions, please see\n",
      "https://gist.github.com/mwaskom/de44147ed2974457ad6372750bbe5751\n",
      "\n",
      "  sns.distplot(wpa['World%'],bins=10,color='Magenta')\n"
     ]
    },
    {
     "data": {
      "text/plain": [
       "Text(0.5, 1.0, 'Histogram of world%')"
      ]
     },
     "execution_count": 203,
     "metadata": {},
     "output_type": "execute_result"
    },
    {
     "data": {
      "image/png": "[encoded data removed]",
      "text/plain": [
       "<Figure size 640x480 with 1 Axes>"
      ]
     },
     "metadata": {},
     "output_type": "display_data"
    }
   ],
   "source": [
    "sns.distplot(wpa['World%'],bins=10,color='Magenta')\n",
    "plt.title('Histogram of world%')"
   ]
  },
  {
   "cell_type": "markdown",
   "id": "56b54ab8",
   "metadata": {},
   "source": [
    "By looking at the data u can tell that area and land area are correlated and have quite similar values,  let's check the correlation between them"
   ]
  },
  {
   "cell_type": "code",
   "execution_count": 204,
   "id": "28ba8aa5",
   "metadata": {},
   "outputs": [
    {
     "data": {
      "text/html": [
       "<div>\n",
       "<style scoped>\n",
       "    .dataframe tbody tr th:only-of-type {\n",
       "        vertical-align: middle;\n",
       "    }\n",
       "\n",
       "    .dataframe tbody tr th {\n",
       "        vertical-align: top;\n",
       "    }\n",
       "\n",
       "    .dataframe thead th {\n",
       "        text-align: right;\n",
       "    }\n",
       "</style>\n",
       "<table border=\"1\" class=\"dataframe\">\n",
       "  <thead>\n",
       "    <tr style=\"text-align: right;\">\n",
       "      <th></th>\n",
       "      <th>Area(km)</th>\n",
       "      <th>Land Area (Km)</th>\n",
       "    </tr>\n",
       "  </thead>\n",
       "  <tbody>\n",
       "    <tr>\n",
       "      <th>Area(km)</th>\n",
       "      <td>1.000000</td>\n",
       "      <td>0.997249</td>\n",
       "    </tr>\n",
       "    <tr>\n",
       "      <th>Land Area (Km)</th>\n",
       "      <td>0.997249</td>\n",
       "      <td>1.000000</td>\n",
       "    </tr>\n",
       "  </tbody>\n",
       "</table>\n",
       "</div>"
      ],
      "text/plain": [
       "                Area(km)  Land Area (Km)\n",
       "Area(km)        1.000000        0.997249\n",
       "Land Area (Km)  0.997249        1.000000"
      ]
     },
     "execution_count": 204,
     "metadata": {},
     "output_type": "execute_result"
    }
   ],
   "source": [
    "wpa[['Area(km)','Land Area (Km)']].corr()"
   ]
  },
  {
   "cell_type": "code",
   "execution_count": 205,
   "id": "fd32c263",
   "metadata": {},
   "outputs": [
    {
     "data": {
      "text/plain": [
       "<matplotlib.collections.PathCollection at 0x1b796bd2c20>"
      ]
     },
     "execution_count": 205,
     "metadata": {},
     "output_type": "execute_result"
    },
    {
     "data": {
      "image/png": "[encoded data removed]",
      "text/plain": [
       "<Figure size 640x480 with 1 Axes>"
      ]
     },
     "metadata": {},
     "output_type": "display_data"
    }
   ],
   "source": [
    "plt.scatter(x=wpa['Area(km)'],y=wpa['Land Area (Km)'])"
   ]
  },
  {
   "cell_type": "markdown",
   "id": "5ee47e04",
   "metadata": {},
   "source": [
    "it has a strong correlation, we might consider keeping one"
   ]
  },
  {
   "cell_type": "code",
   "execution_count": 206,
   "id": "e37cae1d",
   "metadata": {},
   "outputs": [],
   "source": [
    "wpa.drop('Land Area (Km)',axis=1,inplace=True)"
   ]
  },
  {
   "cell_type": "code",
   "execution_count": 207,
   "id": "f07b93d0",
   "metadata": {},
   "outputs": [
    {
     "data": {
      "text/html": [
       "<div>\n",
       "<style scoped>\n",
       "    .dataframe tbody tr th:only-of-type {\n",
       "        vertical-align: middle;\n",
       "    }\n",
       "\n",
       "    .dataframe tbody tr th {\n",
       "        vertical-align: top;\n",
       "    }\n",
       "\n",
       "    .dataframe thead th {\n",
       "        text-align: right;\n",
       "    }\n",
       "</style>\n",
       "<table border=\"1\" class=\"dataframe\">\n",
       "  <thead>\n",
       "    <tr style=\"text-align: right;\">\n",
       "      <th></th>\n",
       "      <th>Country Name</th>\n",
       "      <th>Population (Jan 2024)</th>\n",
       "      <th>Population(2023)</th>\n",
       "      <th>Area(km)</th>\n",
       "      <th>Density(/Km)</th>\n",
       "      <th>Growth Rate</th>\n",
       "      <th>World%</th>\n",
       "      <th>Rank</th>\n",
       "    </tr>\n",
       "  </thead>\n",
       "  <tbody>\n",
       "    <tr>\n",
       "      <th>0</th>\n",
       "      <td>India</td>\n",
       "      <td>1.436398e+09</td>\n",
       "      <td>1.428628e+09</td>\n",
       "      <td>3300000.0</td>\n",
       "      <td>485.0</td>\n",
       "      <td>0.92</td>\n",
       "      <td>18.01</td>\n",
       "      <td>1</td>\n",
       "    </tr>\n",
       "    <tr>\n",
       "      <th>1</th>\n",
       "      <td>China</td>\n",
       "      <td>1.425436e+09</td>\n",
       "      <td>1.425671e+09</td>\n",
       "      <td>9700000.0</td>\n",
       "      <td>151.0</td>\n",
       "      <td>-0.03</td>\n",
       "      <td>17.80</td>\n",
       "      <td>2</td>\n",
       "    </tr>\n",
       "  </tbody>\n",
       "</table>\n",
       "</div>"
      ],
      "text/plain": [
       "  Country Name  Population (Jan 2024)  Population(2023)   Area(km)  \\\n",
       "0        India           1.436398e+09      1.428628e+09  3300000.0   \n",
       "1        China           1.425436e+09      1.425671e+09  9700000.0   \n",
       "\n",
       "   Density(/Km)  Growth Rate  World%  Rank  \n",
       "0         485.0         0.92   18.01     1  \n",
       "1         151.0        -0.03   17.80     2  "
      ]
     },
     "execution_count": 207,
     "metadata": {},
     "output_type": "execute_result"
    }
   ],
   "source": [
    "wpa.head(2)"
   ]
  },
  {
   "cell_type": "markdown",
   "id": "f5d5c0eb",
   "metadata": {},
   "source": [
    "land area km column is dropped"
   ]
  },
  {
   "cell_type": "markdown",
   "id": "62512a0e",
   "metadata": {},
   "source": [
    "we can also drop the Rank column as it shows rank of countries just like index and its not useful for analysis"
   ]
  },
  {
   "cell_type": "code",
   "execution_count": 208,
   "id": "6fe04e8a",
   "metadata": {},
   "outputs": [
    {
     "data": {
      "text/html": [
       "<div>\n",
       "<style scoped>\n",
       "    .dataframe tbody tr th:only-of-type {\n",
       "        vertical-align: middle;\n",
       "    }\n",
       "\n",
       "    .dataframe tbody tr th {\n",
       "        vertical-align: top;\n",
       "    }\n",
       "\n",
       "    .dataframe thead th {\n",
       "        text-align: right;\n",
       "    }\n",
       "</style>\n",
       "<table border=\"1\" class=\"dataframe\">\n",
       "  <thead>\n",
       "    <tr style=\"text-align: right;\">\n",
       "      <th></th>\n",
       "      <th>Country Name</th>\n",
       "      <th>Population (Jan 2024)</th>\n",
       "      <th>Population(2023)</th>\n",
       "      <th>Area(km)</th>\n",
       "      <th>Density(/Km)</th>\n",
       "      <th>Growth Rate</th>\n",
       "      <th>World%</th>\n",
       "    </tr>\n",
       "  </thead>\n",
       "  <tbody>\n",
       "    <tr>\n",
       "      <th>0</th>\n",
       "      <td>India</td>\n",
       "      <td>1.436398e+09</td>\n",
       "      <td>1.428628e+09</td>\n",
       "      <td>3300000.0</td>\n",
       "      <td>485.0</td>\n",
       "      <td>0.92</td>\n",
       "      <td>18.01</td>\n",
       "    </tr>\n",
       "    <tr>\n",
       "      <th>1</th>\n",
       "      <td>China</td>\n",
       "      <td>1.425436e+09</td>\n",
       "      <td>1.425671e+09</td>\n",
       "      <td>9700000.0</td>\n",
       "      <td>151.0</td>\n",
       "      <td>-0.03</td>\n",
       "      <td>17.80</td>\n",
       "    </tr>\n",
       "  </tbody>\n",
       "</table>\n",
       "</div>"
      ],
      "text/plain": [
       "  Country Name  Population (Jan 2024)  Population(2023)   Area(km)  \\\n",
       "0        India           1.436398e+09      1.428628e+09  3300000.0   \n",
       "1        China           1.425436e+09      1.425671e+09  9700000.0   \n",
       "\n",
       "   Density(/Km)  Growth Rate  World%  \n",
       "0         485.0         0.92   18.01  \n",
       "1         151.0        -0.03   17.80  "
      ]
     },
     "execution_count": 208,
     "metadata": {},
     "output_type": "execute_result"
    }
   ],
   "source": [
    "wpa.drop('Rank',axis=1,inplace=True)\n",
    "wpa.head(2)"
   ]
  },
  {
   "cell_type": "code",
   "execution_count": 209,
   "id": "bf85ffa0",
   "metadata": {},
   "outputs": [],
   "source": [
    "# there's no use of treating outliers as the data has the values that are approx"
   ]
  },
  {
   "cell_type": "code",
   "execution_count": 210,
   "id": "ae6f42ae",
   "metadata": {},
   "outputs": [
    {
     "name": "stderr",
     "output_type": "stream",
     "text": [
      "C:\\Users\\ajay a j\\AppData\\Local\\Temp\\ipykernel_17680\\2658826410.py:1: FutureWarning: The default value of numeric_only in DataFrame.corr is deprecated. In a future version, it will default to False. Select only valid columns or specify the value of numeric_only to silence this warning.\n",
      "  wpa.corr()\n"
     ]
    },
    {
     "data": {
      "text/html": [
       "<div>\n",
       "<style scoped>\n",
       "    .dataframe tbody tr th:only-of-type {\n",
       "        vertical-align: middle;\n",
       "    }\n",
       "\n",
       "    .dataframe tbody tr th {\n",
       "        vertical-align: top;\n",
       "    }\n",
       "\n",
       "    .dataframe thead th {\n",
       "        text-align: right;\n",
       "    }\n",
       "</style>\n",
       "<table border=\"1\" class=\"dataframe\">\n",
       "  <thead>\n",
       "    <tr style=\"text-align: right;\">\n",
       "      <th></th>\n",
       "      <th>Population (Jan 2024)</th>\n",
       "      <th>Population(2023)</th>\n",
       "      <th>Area(km)</th>\n",
       "      <th>Density(/Km)</th>\n",
       "      <th>Growth Rate</th>\n",
       "      <th>World%</th>\n",
       "    </tr>\n",
       "  </thead>\n",
       "  <tbody>\n",
       "    <tr>\n",
       "      <th>Population (Jan 2024)</th>\n",
       "      <td>1.000000</td>\n",
       "      <td>0.998607</td>\n",
       "      <td>0.435359</td>\n",
       "      <td>-0.024967</td>\n",
       "      <td>-0.008275</td>\n",
       "      <td>0.990881</td>\n",
       "    </tr>\n",
       "    <tr>\n",
       "      <th>Population(2023)</th>\n",
       "      <td>0.998607</td>\n",
       "      <td>1.000000</td>\n",
       "      <td>0.436764</td>\n",
       "      <td>-0.026480</td>\n",
       "      <td>-0.002748</td>\n",
       "      <td>0.989871</td>\n",
       "    </tr>\n",
       "    <tr>\n",
       "      <th>Area(km)</th>\n",
       "      <td>0.435359</td>\n",
       "      <td>0.436764</td>\n",
       "      <td>1.000000</td>\n",
       "      <td>-0.019658</td>\n",
       "      <td>-0.029647</td>\n",
       "      <td>0.434939</td>\n",
       "    </tr>\n",
       "    <tr>\n",
       "      <th>Density(/Km)</th>\n",
       "      <td>-0.024967</td>\n",
       "      <td>-0.026480</td>\n",
       "      <td>-0.019658</td>\n",
       "      <td>1.000000</td>\n",
       "      <td>-0.072809</td>\n",
       "      <td>-0.016674</td>\n",
       "    </tr>\n",
       "    <tr>\n",
       "      <th>Growth Rate</th>\n",
       "      <td>-0.008275</td>\n",
       "      <td>-0.002748</td>\n",
       "      <td>-0.029647</td>\n",
       "      <td>-0.072809</td>\n",
       "      <td>1.000000</td>\n",
       "      <td>-0.028007</td>\n",
       "    </tr>\n",
       "    <tr>\n",
       "      <th>World%</th>\n",
       "      <td>0.990881</td>\n",
       "      <td>0.989871</td>\n",
       "      <td>0.434939</td>\n",
       "      <td>-0.016674</td>\n",
       "      <td>-0.028007</td>\n",
       "      <td>1.000000</td>\n",
       "    </tr>\n",
       "  </tbody>\n",
       "</table>\n",
       "</div>"
      ],
      "text/plain": [
       "                       Population (Jan 2024)  Population(2023)  Area(km)  \\\n",
       "Population (Jan 2024)               1.000000          0.998607  0.435359   \n",
       "Population(2023)                    0.998607          1.000000  0.436764   \n",
       "Area(km)                            0.435359          0.436764  1.000000   \n",
       "Density(/Km)                       -0.024967         -0.026480 -0.019658   \n",
       "Growth Rate                        -0.008275         -0.002748 -0.029647   \n",
       "World%                              0.990881          0.989871  0.434939   \n",
       "\n",
       "                       Density(/Km)  Growth Rate    World%  \n",
       "Population (Jan 2024)     -0.024967    -0.008275  0.990881  \n",
       "Population(2023)          -0.026480    -0.002748  0.989871  \n",
       "Area(km)                  -0.019658    -0.029647  0.434939  \n",
       "Density(/Km)               1.000000    -0.072809 -0.016674  \n",
       "Growth Rate               -0.072809     1.000000 -0.028007  \n",
       "World%                    -0.016674    -0.028007  1.000000  "
      ]
     },
     "execution_count": 210,
     "metadata": {},
     "output_type": "execute_result"
    }
   ],
   "source": [
    "wpa.corr()"
   ]
  },
  {
   "cell_type": "code",
   "execution_count": 211,
   "id": "ea832e1d",
   "metadata": {},
   "outputs": [
    {
     "data": {
      "text/plain": [
       "<matplotlib.collections.PathCollection at 0x1b796f5ec50>"
      ]
     },
     "execution_count": 211,
     "metadata": {},
     "output_type": "execute_result"
    },
    {
     "data": {
      "image/png": "[encoded data removed]",
      "text/plain": [
       "<Figure size 640x480 with 1 Axes>"
      ]
     },
     "metadata": {},
     "output_type": "display_data"
    }
   ],
   "source": [
    "# scatter plot , derive relation between two population columns\n",
    "plt.scatter(x=wpa['Population (Jan 2024)'],y=wpa['Population(2023)'])"
   ]
  },
  {
   "cell_type": "code",
   "execution_count": 212,
   "id": "491205a5",
   "metadata": {},
   "outputs": [],
   "source": [
    "#thought of creating a new column whcih shows difference between \"populaton(2024)\" and \"populaton(2023)\" let's give it a try\n",
    "wpa['population_diff']  = wpa['Population (Jan 2024)']-wpa['Population(2023)']"
   ]
  },
  {
   "cell_type": "code",
   "execution_count": 213,
   "id": "1d80ff44",
   "metadata": {},
   "outputs": [
    {
     "data": {
      "text/html": [
       "<div>\n",
       "<style scoped>\n",
       "    .dataframe tbody tr th:only-of-type {\n",
       "        vertical-align: middle;\n",
       "    }\n",
       "\n",
       "    .dataframe tbody tr th {\n",
       "        vertical-align: top;\n",
       "    }\n",
       "\n",
       "    .dataframe thead th {\n",
       "        text-align: right;\n",
       "    }\n",
       "</style>\n",
       "<table border=\"1\" class=\"dataframe\">\n",
       "  <thead>\n",
       "    <tr style=\"text-align: right;\">\n",
       "      <th></th>\n",
       "      <th>Country Name</th>\n",
       "      <th>Population (Jan 2024)</th>\n",
       "      <th>Population(2023)</th>\n",
       "      <th>Area(km)</th>\n",
       "      <th>Density(/Km)</th>\n",
       "      <th>Growth Rate</th>\n",
       "      <th>World%</th>\n",
       "      <th>population_diff</th>\n",
       "    </tr>\n",
       "  </thead>\n",
       "  <tbody>\n",
       "    <tr>\n",
       "      <th>0</th>\n",
       "      <td>India</td>\n",
       "      <td>1.436398e+09</td>\n",
       "      <td>1.428628e+09</td>\n",
       "      <td>3300000.0</td>\n",
       "      <td>485.0</td>\n",
       "      <td>0.92</td>\n",
       "      <td>18.01</td>\n",
       "      <td>7770230.0</td>\n",
       "    </tr>\n",
       "    <tr>\n",
       "      <th>1</th>\n",
       "      <td>China</td>\n",
       "      <td>1.425436e+09</td>\n",
       "      <td>1.425671e+09</td>\n",
       "      <td>9700000.0</td>\n",
       "      <td>151.0</td>\n",
       "      <td>-0.03</td>\n",
       "      <td>17.80</td>\n",
       "      <td>-235139.0</td>\n",
       "    </tr>\n",
       "    <tr>\n",
       "      <th>2</th>\n",
       "      <td>United States</td>\n",
       "      <td>3.410758e+08</td>\n",
       "      <td>3.399966e+08</td>\n",
       "      <td>9400000.0</td>\n",
       "      <td>37.0</td>\n",
       "      <td>0.53</td>\n",
       "      <td>4.27</td>\n",
       "      <td>1079199.0</td>\n",
       "    </tr>\n",
       "    <tr>\n",
       "      <th>3</th>\n",
       "      <td>Indonesia</td>\n",
       "      <td>2.788835e+08</td>\n",
       "      <td>2.775341e+08</td>\n",
       "      <td>1900000.0</td>\n",
       "      <td>149.0</td>\n",
       "      <td>0.82</td>\n",
       "      <td>3.50</td>\n",
       "      <td>1349337.0</td>\n",
       "    </tr>\n",
       "    <tr>\n",
       "      <th>4</th>\n",
       "      <td>Pakistan</td>\n",
       "      <td>2.432707e+08</td>\n",
       "      <td>2.404857e+08</td>\n",
       "      <td>881900.0</td>\n",
       "      <td>318.0</td>\n",
       "      <td>1.96</td>\n",
       "      <td>3.06</td>\n",
       "      <td>2785018.0</td>\n",
       "    </tr>\n",
       "    <tr>\n",
       "      <th>5</th>\n",
       "      <td>Nigeria</td>\n",
       "      <td>2.269414e+08</td>\n",
       "      <td>2.238046e+08</td>\n",
       "      <td>923800.0</td>\n",
       "      <td>252.0</td>\n",
       "      <td>2.39</td>\n",
       "      <td>2.86</td>\n",
       "      <td>3136786.0</td>\n",
       "    </tr>\n",
       "    <tr>\n",
       "      <th>6</th>\n",
       "      <td>Brazil</td>\n",
       "      <td>2.171496e+08</td>\n",
       "      <td>2.164224e+08</td>\n",
       "      <td>8500000.0</td>\n",
       "      <td>26.0</td>\n",
       "      <td>0.56</td>\n",
       "      <td>2.72</td>\n",
       "      <td>727156.0</td>\n",
       "    </tr>\n",
       "    <tr>\n",
       "      <th>7</th>\n",
       "      <td>Bangladesh</td>\n",
       "      <td>1.739897e+08</td>\n",
       "      <td>1.729543e+08</td>\n",
       "      <td>147600.0</td>\n",
       "      <td>1342.0</td>\n",
       "      <td>1.01</td>\n",
       "      <td>2.18</td>\n",
       "      <td>1035400.0</td>\n",
       "    </tr>\n",
       "    <tr>\n",
       "      <th>8</th>\n",
       "      <td>Russia</td>\n",
       "      <td>1.441524e+08</td>\n",
       "      <td>1.444444e+08</td>\n",
       "      <td>17100000.0</td>\n",
       "      <td>9.0</td>\n",
       "      <td>-0.34</td>\n",
       "      <td>1.80</td>\n",
       "      <td>-291943.0</td>\n",
       "    </tr>\n",
       "    <tr>\n",
       "      <th>9</th>\n",
       "      <td>Ethiopia</td>\n",
       "      <td>1.284054e+08</td>\n",
       "      <td>1.265271e+08</td>\n",
       "      <td>1100000.0</td>\n",
       "      <td>115.0</td>\n",
       "      <td>2.52</td>\n",
       "      <td>1.62</td>\n",
       "      <td>1878339.0</td>\n",
       "    </tr>\n",
       "  </tbody>\n",
       "</table>\n",
       "</div>"
      ],
      "text/plain": [
       "    Country Name  Population (Jan 2024)  Population(2023)    Area(km)  \\\n",
       "0          India           1.436398e+09      1.428628e+09   3300000.0   \n",
       "1          China           1.425436e+09      1.425671e+09   9700000.0   \n",
       "2  United States           3.410758e+08      3.399966e+08   9400000.0   \n",
       "3      Indonesia           2.788835e+08      2.775341e+08   1900000.0   \n",
       "4       Pakistan           2.432707e+08      2.404857e+08    881900.0   \n",
       "5        Nigeria           2.269414e+08      2.238046e+08    923800.0   \n",
       "6         Brazil           2.171496e+08      2.164224e+08   8500000.0   \n",
       "7     Bangladesh           1.739897e+08      1.729543e+08    147600.0   \n",
       "8         Russia           1.441524e+08      1.444444e+08  17100000.0   \n",
       "9       Ethiopia           1.284054e+08      1.265271e+08   1100000.0   \n",
       "\n",
       "   Density(/Km)  Growth Rate  World%  population_diff  \n",
       "0         485.0         0.92   18.01        7770230.0  \n",
       "1         151.0        -0.03   17.80        -235139.0  \n",
       "2          37.0         0.53    4.27        1079199.0  \n",
       "3         149.0         0.82    3.50        1349337.0  \n",
       "4         318.0         1.96    3.06        2785018.0  \n",
       "5         252.0         2.39    2.86        3136786.0  \n",
       "6          26.0         0.56    2.72         727156.0  \n",
       "7        1342.0         1.01    2.18        1035400.0  \n",
       "8           9.0        -0.34    1.80        -291943.0  \n",
       "9         115.0         2.52    1.62        1878339.0  "
      ]
     },
     "execution_count": 213,
     "metadata": {},
     "output_type": "execute_result"
    }
   ],
   "source": [
    "wpa.head(10)"
   ]
  },
  {
   "cell_type": "markdown",
   "id": "6a588b2b",
   "metadata": {},
   "source": [
    " i think creating a diff column was a good idea, no we can clearly see if there is rise or reduction in the population "
   ]
  },
  {
   "cell_type": "markdown",
   "id": "67184f12",
   "metadata": {},
   "source": [
    "treating outliers may not be a good idea in this dataset as the data is in order according to population, so we will just skip that"
   ]
  },
  {
   "cell_type": "code",
   "execution_count": 214,
   "id": "9f3e958b",
   "metadata": {},
   "outputs": [],
   "source": [
    "wpa.to_csv(r\"C:\\Users\\ajay a j\\Downloads\\archive (9)\\Population_for_visualization.csv\",index=False)"
   ]
  },
  {
   "cell_type": "code",
   "execution_count": 215,
   "id": "88ed1f75",
   "metadata": {},
   "outputs": [
    {
     "name": "stdout",
     "output_type": "stream",
     "text": [
      "min 1935.0\n",
      "max 1436397893.0\n"
     ]
    }
   ],
   "source": [
    "print(\"min\",min(wpa['Population (Jan 2024)']))\n",
    "print(\"max\",max(wpa['Population (Jan 2024)']))"
   ]
  },
  {
   "cell_type": "code",
   "execution_count": 216,
   "id": "e6a45e86",
   "metadata": {},
   "outputs": [],
   "source": [
    "# population contains big integers which can't be analyzed , so consider normalization those columnsp"
   ]
  },
  {
   "cell_type": "code",
   "execution_count": 217,
   "id": "fbfa72b7",
   "metadata": {},
   "outputs": [],
   "source": [
    "import numpy as np\n",
    "wpa['Population (Jan 2024)']=np.log1p(wpa[['Population (Jan 2024)']])"
   ]
  },
  {
   "cell_type": "code",
   "execution_count": 218,
   "id": "19b796da",
   "metadata": {},
   "outputs": [
    {
     "data": {
      "text/html": [
       "<div>\n",
       "<style scoped>\n",
       "    .dataframe tbody tr th:only-of-type {\n",
       "        vertical-align: middle;\n",
       "    }\n",
       "\n",
       "    .dataframe tbody tr th {\n",
       "        vertical-align: top;\n",
       "    }\n",
       "\n",
       "    .dataframe thead th {\n",
       "        text-align: right;\n",
       "    }\n",
       "</style>\n",
       "<table border=\"1\" class=\"dataframe\">\n",
       "  <thead>\n",
       "    <tr style=\"text-align: right;\">\n",
       "      <th></th>\n",
       "      <th>Country Name</th>\n",
       "      <th>Population (Jan 2024)</th>\n",
       "      <th>Population(2023)</th>\n",
       "      <th>Area(km)</th>\n",
       "      <th>Density(/Km)</th>\n",
       "      <th>Growth Rate</th>\n",
       "      <th>World%</th>\n",
       "      <th>population_diff</th>\n",
       "    </tr>\n",
       "  </thead>\n",
       "  <tbody>\n",
       "    <tr>\n",
       "      <th>0</th>\n",
       "      <td>India</td>\n",
       "      <td>2.310328</td>\n",
       "      <td>1.428628e+09</td>\n",
       "      <td>3300000.0</td>\n",
       "      <td>485.0</td>\n",
       "      <td>0.92</td>\n",
       "      <td>18.01</td>\n",
       "      <td>7770230.0</td>\n",
       "    </tr>\n",
       "    <tr>\n",
       "      <th>1</th>\n",
       "      <td>China</td>\n",
       "      <td>2.307291</td>\n",
       "      <td>1.425671e+09</td>\n",
       "      <td>9700000.0</td>\n",
       "      <td>151.0</td>\n",
       "      <td>-0.03</td>\n",
       "      <td>17.80</td>\n",
       "      <td>-235139.0</td>\n",
       "    </tr>\n",
       "    <tr>\n",
       "      <th>2</th>\n",
       "      <td>United States</td>\n",
       "      <td>1.740309</td>\n",
       "      <td>3.399966e+08</td>\n",
       "      <td>9400000.0</td>\n",
       "      <td>37.0</td>\n",
       "      <td>0.53</td>\n",
       "      <td>4.27</td>\n",
       "      <td>1079199.0</td>\n",
       "    </tr>\n",
       "    <tr>\n",
       "      <th>3</th>\n",
       "      <td>Indonesia</td>\n",
       "      <td>1.660498</td>\n",
       "      <td>2.775341e+08</td>\n",
       "      <td>1900000.0</td>\n",
       "      <td>149.0</td>\n",
       "      <td>0.82</td>\n",
       "      <td>3.50</td>\n",
       "      <td>1349337.0</td>\n",
       "    </tr>\n",
       "    <tr>\n",
       "      <th>4</th>\n",
       "      <td>Pakistan</td>\n",
       "      <td>1.606335</td>\n",
       "      <td>2.404857e+08</td>\n",
       "      <td>881900.0</td>\n",
       "      <td>318.0</td>\n",
       "      <td>1.96</td>\n",
       "      <td>3.06</td>\n",
       "      <td>2785018.0</td>\n",
       "    </tr>\n",
       "    <tr>\n",
       "      <th>5</th>\n",
       "      <td>Nigeria</td>\n",
       "      <td>1.578788</td>\n",
       "      <td>2.238046e+08</td>\n",
       "      <td>923800.0</td>\n",
       "      <td>252.0</td>\n",
       "      <td>2.39</td>\n",
       "      <td>2.86</td>\n",
       "      <td>3136786.0</td>\n",
       "    </tr>\n",
       "    <tr>\n",
       "      <th>6</th>\n",
       "      <td>Brazil</td>\n",
       "      <td>1.561302</td>\n",
       "      <td>2.164224e+08</td>\n",
       "      <td>8500000.0</td>\n",
       "      <td>26.0</td>\n",
       "      <td>0.56</td>\n",
       "      <td>2.72</td>\n",
       "      <td>727156.0</td>\n",
       "    </tr>\n",
       "    <tr>\n",
       "      <th>7</th>\n",
       "      <td>Bangladesh</td>\n",
       "      <td>1.473452</td>\n",
       "      <td>1.729543e+08</td>\n",
       "      <td>147600.0</td>\n",
       "      <td>1342.0</td>\n",
       "      <td>1.01</td>\n",
       "      <td>2.18</td>\n",
       "      <td>1035400.0</td>\n",
       "    </tr>\n",
       "    <tr>\n",
       "      <th>8</th>\n",
       "      <td>Russia</td>\n",
       "      <td>1.398869</td>\n",
       "      <td>1.444444e+08</td>\n",
       "      <td>17100000.0</td>\n",
       "      <td>9.0</td>\n",
       "      <td>-0.34</td>\n",
       "      <td>1.80</td>\n",
       "      <td>-291943.0</td>\n",
       "    </tr>\n",
       "    <tr>\n",
       "      <th>9</th>\n",
       "      <td>Ethiopia</td>\n",
       "      <td>1.353007</td>\n",
       "      <td>1.265271e+08</td>\n",
       "      <td>1100000.0</td>\n",
       "      <td>115.0</td>\n",
       "      <td>2.52</td>\n",
       "      <td>1.62</td>\n",
       "      <td>1878339.0</td>\n",
       "    </tr>\n",
       "  </tbody>\n",
       "</table>\n",
       "</div>"
      ],
      "text/plain": [
       "    Country Name  Population (Jan 2024)  Population(2023)    Area(km)  \\\n",
       "0          India               2.310328      1.428628e+09   3300000.0   \n",
       "1          China               2.307291      1.425671e+09   9700000.0   \n",
       "2  United States               1.740309      3.399966e+08   9400000.0   \n",
       "3      Indonesia               1.660498      2.775341e+08   1900000.0   \n",
       "4       Pakistan               1.606335      2.404857e+08    881900.0   \n",
       "5        Nigeria               1.578788      2.238046e+08    923800.0   \n",
       "6         Brazil               1.561302      2.164224e+08   8500000.0   \n",
       "7     Bangladesh               1.473452      1.729543e+08    147600.0   \n",
       "8         Russia               1.398869      1.444444e+08  17100000.0   \n",
       "9       Ethiopia               1.353007      1.265271e+08   1100000.0   \n",
       "\n",
       "   Density(/Km)  Growth Rate  World%  population_diff  \n",
       "0         485.0         0.92   18.01        7770230.0  \n",
       "1         151.0        -0.03   17.80        -235139.0  \n",
       "2          37.0         0.53    4.27        1079199.0  \n",
       "3         149.0         0.82    3.50        1349337.0  \n",
       "4         318.0         1.96    3.06        2785018.0  \n",
       "5         252.0         2.39    2.86        3136786.0  \n",
       "6          26.0         0.56    2.72         727156.0  \n",
       "7        1342.0         1.01    2.18        1035400.0  \n",
       "8           9.0        -0.34    1.80        -291943.0  \n",
       "9         115.0         2.52    1.62        1878339.0  "
      ]
     },
     "execution_count": 218,
     "metadata": {},
     "output_type": "execute_result"
    }
   ],
   "source": [
    "from sklearn.preprocessing import StandardScaler\n",
    "std_scaler =StandardScaler()\n",
    "wpa['Population (Jan 2024)']=std_scaler.fit_transform(wpa[['Population (Jan 2024)']])\n",
    "wpa.head(10)"
   ]
  },
  {
   "cell_type": "code",
   "execution_count": 219,
   "id": "788082f2",
   "metadata": {},
   "outputs": [
    {
     "data": {
      "text/html": [
       "<div>\n",
       "<style scoped>\n",
       "    .dataframe tbody tr th:only-of-type {\n",
       "        vertical-align: middle;\n",
       "    }\n",
       "\n",
       "    .dataframe tbody tr th {\n",
       "        vertical-align: top;\n",
       "    }\n",
       "\n",
       "    .dataframe thead th {\n",
       "        text-align: right;\n",
       "    }\n",
       "</style>\n",
       "<table border=\"1\" class=\"dataframe\">\n",
       "  <thead>\n",
       "    <tr style=\"text-align: right;\">\n",
       "      <th></th>\n",
       "      <th>Country Name</th>\n",
       "      <th>Population (Jan 2024)</th>\n",
       "      <th>Population(2023)</th>\n",
       "      <th>Area(km)</th>\n",
       "      <th>Density(/Km)</th>\n",
       "      <th>Growth Rate</th>\n",
       "      <th>World%</th>\n",
       "      <th>population_diff</th>\n",
       "    </tr>\n",
       "  </thead>\n",
       "  <tbody>\n",
       "    <tr>\n",
       "      <th>0</th>\n",
       "      <td>India</td>\n",
       "      <td>2.310328</td>\n",
       "      <td>1.428628e+09</td>\n",
       "      <td>3300000.0</td>\n",
       "      <td>485.0</td>\n",
       "      <td>0.92</td>\n",
       "      <td>18.01</td>\n",
       "      <td>7770230.0</td>\n",
       "    </tr>\n",
       "    <tr>\n",
       "      <th>1</th>\n",
       "      <td>China</td>\n",
       "      <td>2.307291</td>\n",
       "      <td>1.425671e+09</td>\n",
       "      <td>9700000.0</td>\n",
       "      <td>151.0</td>\n",
       "      <td>-0.03</td>\n",
       "      <td>17.80</td>\n",
       "      <td>-235139.0</td>\n",
       "    </tr>\n",
       "    <tr>\n",
       "      <th>2</th>\n",
       "      <td>United States</td>\n",
       "      <td>1.740309</td>\n",
       "      <td>3.399966e+08</td>\n",
       "      <td>9400000.0</td>\n",
       "      <td>37.0</td>\n",
       "      <td>0.53</td>\n",
       "      <td>4.27</td>\n",
       "      <td>1079199.0</td>\n",
       "    </tr>\n",
       "    <tr>\n",
       "      <th>3</th>\n",
       "      <td>Indonesia</td>\n",
       "      <td>1.660498</td>\n",
       "      <td>2.775341e+08</td>\n",
       "      <td>1900000.0</td>\n",
       "      <td>149.0</td>\n",
       "      <td>0.82</td>\n",
       "      <td>3.50</td>\n",
       "      <td>1349337.0</td>\n",
       "    </tr>\n",
       "    <tr>\n",
       "      <th>4</th>\n",
       "      <td>Pakistan</td>\n",
       "      <td>1.606335</td>\n",
       "      <td>2.404857e+08</td>\n",
       "      <td>881900.0</td>\n",
       "      <td>318.0</td>\n",
       "      <td>1.96</td>\n",
       "      <td>3.06</td>\n",
       "      <td>2785018.0</td>\n",
       "    </tr>\n",
       "    <tr>\n",
       "      <th>5</th>\n",
       "      <td>Nigeria</td>\n",
       "      <td>1.578788</td>\n",
       "      <td>2.238046e+08</td>\n",
       "      <td>923800.0</td>\n",
       "      <td>252.0</td>\n",
       "      <td>2.39</td>\n",
       "      <td>2.86</td>\n",
       "      <td>3136786.0</td>\n",
       "    </tr>\n",
       "    <tr>\n",
       "      <th>6</th>\n",
       "      <td>Brazil</td>\n",
       "      <td>1.561302</td>\n",
       "      <td>2.164224e+08</td>\n",
       "      <td>8500000.0</td>\n",
       "      <td>26.0</td>\n",
       "      <td>0.56</td>\n",
       "      <td>2.72</td>\n",
       "      <td>727156.0</td>\n",
       "    </tr>\n",
       "    <tr>\n",
       "      <th>7</th>\n",
       "      <td>Bangladesh</td>\n",
       "      <td>1.473452</td>\n",
       "      <td>1.729543e+08</td>\n",
       "      <td>147600.0</td>\n",
       "      <td>1342.0</td>\n",
       "      <td>1.01</td>\n",
       "      <td>2.18</td>\n",
       "      <td>1035400.0</td>\n",
       "    </tr>\n",
       "    <tr>\n",
       "      <th>8</th>\n",
       "      <td>Russia</td>\n",
       "      <td>1.398869</td>\n",
       "      <td>1.444444e+08</td>\n",
       "      <td>17100000.0</td>\n",
       "      <td>9.0</td>\n",
       "      <td>-0.34</td>\n",
       "      <td>1.80</td>\n",
       "      <td>-291943.0</td>\n",
       "    </tr>\n",
       "    <tr>\n",
       "      <th>9</th>\n",
       "      <td>Ethiopia</td>\n",
       "      <td>1.353007</td>\n",
       "      <td>1.265271e+08</td>\n",
       "      <td>1100000.0</td>\n",
       "      <td>115.0</td>\n",
       "      <td>2.52</td>\n",
       "      <td>1.62</td>\n",
       "      <td>1878339.0</td>\n",
       "    </tr>\n",
       "  </tbody>\n",
       "</table>\n",
       "</div>"
      ],
      "text/plain": [
       "    Country Name  Population (Jan 2024)  Population(2023)    Area(km)  \\\n",
       "0          India               2.310328      1.428628e+09   3300000.0   \n",
       "1          China               2.307291      1.425671e+09   9700000.0   \n",
       "2  United States               1.740309      3.399966e+08   9400000.0   \n",
       "3      Indonesia               1.660498      2.775341e+08   1900000.0   \n",
       "4       Pakistan               1.606335      2.404857e+08    881900.0   \n",
       "5        Nigeria               1.578788      2.238046e+08    923800.0   \n",
       "6         Brazil               1.561302      2.164224e+08   8500000.0   \n",
       "7     Bangladesh               1.473452      1.729543e+08    147600.0   \n",
       "8         Russia               1.398869      1.444444e+08  17100000.0   \n",
       "9       Ethiopia               1.353007      1.265271e+08   1100000.0   \n",
       "\n",
       "   Density(/Km)  Growth Rate  World%  population_diff  \n",
       "0         485.0         0.92   18.01        7770230.0  \n",
       "1         151.0        -0.03   17.80        -235139.0  \n",
       "2          37.0         0.53    4.27        1079199.0  \n",
       "3         149.0         0.82    3.50        1349337.0  \n",
       "4         318.0         1.96    3.06        2785018.0  \n",
       "5         252.0         2.39    2.86        3136786.0  \n",
       "6          26.0         0.56    2.72         727156.0  \n",
       "7        1342.0         1.01    2.18        1035400.0  \n",
       "8           9.0        -0.34    1.80        -291943.0  \n",
       "9         115.0         2.52    1.62        1878339.0  "
      ]
     },
     "execution_count": 219,
     "metadata": {},
     "output_type": "execute_result"
    }
   ],
   "source": [
    "wpa.head(10)"
   ]
  },
  {
   "cell_type": "code",
   "execution_count": 220,
   "id": "66df8b47",
   "metadata": {},
   "outputs": [],
   "source": [
    "import numpy as np\n",
    "wpa['Population(2023)']=np.log1p(wpa[['Population(2023)']])"
   ]
  },
  {
   "cell_type": "code",
   "execution_count": 221,
   "id": "d304feae",
   "metadata": {},
   "outputs": [
    {
     "data": {
      "text/html": [
       "<div>\n",
       "<style scoped>\n",
       "    .dataframe tbody tr th:only-of-type {\n",
       "        vertical-align: middle;\n",
       "    }\n",
       "\n",
       "    .dataframe tbody tr th {\n",
       "        vertical-align: top;\n",
       "    }\n",
       "\n",
       "    .dataframe thead th {\n",
       "        text-align: right;\n",
       "    }\n",
       "</style>\n",
       "<table border=\"1\" class=\"dataframe\">\n",
       "  <thead>\n",
       "    <tr style=\"text-align: right;\">\n",
       "      <th></th>\n",
       "      <th>Country Name</th>\n",
       "      <th>Population (Jan 2024)</th>\n",
       "      <th>Population(2023)</th>\n",
       "      <th>Area(km)</th>\n",
       "      <th>Density(/Km)</th>\n",
       "      <th>Growth Rate</th>\n",
       "      <th>World%</th>\n",
       "      <th>population_diff</th>\n",
       "    </tr>\n",
       "  </thead>\n",
       "  <tbody>\n",
       "    <tr>\n",
       "      <th>0</th>\n",
       "      <td>India</td>\n",
       "      <td>2.310328</td>\n",
       "      <td>21.079980</td>\n",
       "      <td>3300000.0</td>\n",
       "      <td>485.0</td>\n",
       "      <td>0.92</td>\n",
       "      <td>18.01</td>\n",
       "      <td>7770230.0</td>\n",
       "    </tr>\n",
       "    <tr>\n",
       "      <th>1</th>\n",
       "      <td>China</td>\n",
       "      <td>2.307291</td>\n",
       "      <td>21.077909</td>\n",
       "      <td>9700000.0</td>\n",
       "      <td>151.0</td>\n",
       "      <td>-0.03</td>\n",
       "      <td>17.80</td>\n",
       "      <td>-235139.0</td>\n",
       "    </tr>\n",
       "    <tr>\n",
       "      <th>2</th>\n",
       "      <td>United States</td>\n",
       "      <td>1.740309</td>\n",
       "      <td>19.644446</td>\n",
       "      <td>9400000.0</td>\n",
       "      <td>37.0</td>\n",
       "      <td>0.53</td>\n",
       "      <td>4.27</td>\n",
       "      <td>1079199.0</td>\n",
       "    </tr>\n",
       "    <tr>\n",
       "      <th>3</th>\n",
       "      <td>Indonesia</td>\n",
       "      <td>1.660498</td>\n",
       "      <td>19.441454</td>\n",
       "      <td>1900000.0</td>\n",
       "      <td>149.0</td>\n",
       "      <td>0.82</td>\n",
       "      <td>3.50</td>\n",
       "      <td>1349337.0</td>\n",
       "    </tr>\n",
       "    <tr>\n",
       "      <th>4</th>\n",
       "      <td>Pakistan</td>\n",
       "      <td>1.606335</td>\n",
       "      <td>19.298171</td>\n",
       "      <td>881900.0</td>\n",
       "      <td>318.0</td>\n",
       "      <td>1.96</td>\n",
       "      <td>3.06</td>\n",
       "      <td>2785018.0</td>\n",
       "    </tr>\n",
       "    <tr>\n",
       "      <th>5</th>\n",
       "      <td>Nigeria</td>\n",
       "      <td>1.578788</td>\n",
       "      <td>19.226284</td>\n",
       "      <td>923800.0</td>\n",
       "      <td>252.0</td>\n",
       "      <td>2.39</td>\n",
       "      <td>2.86</td>\n",
       "      <td>3136786.0</td>\n",
       "    </tr>\n",
       "    <tr>\n",
       "      <th>6</th>\n",
       "      <td>Brazil</td>\n",
       "      <td>1.561302</td>\n",
       "      <td>19.192743</td>\n",
       "      <td>8500000.0</td>\n",
       "      <td>26.0</td>\n",
       "      <td>0.56</td>\n",
       "      <td>2.72</td>\n",
       "      <td>727156.0</td>\n",
       "    </tr>\n",
       "    <tr>\n",
       "      <th>7</th>\n",
       "      <td>Bangladesh</td>\n",
       "      <td>1.473452</td>\n",
       "      <td>18.968538</td>\n",
       "      <td>147600.0</td>\n",
       "      <td>1342.0</td>\n",
       "      <td>1.01</td>\n",
       "      <td>2.18</td>\n",
       "      <td>1035400.0</td>\n",
       "    </tr>\n",
       "    <tr>\n",
       "      <th>8</th>\n",
       "      <td>Russia</td>\n",
       "      <td>1.398869</td>\n",
       "      <td>18.788405</td>\n",
       "      <td>17100000.0</td>\n",
       "      <td>9.0</td>\n",
       "      <td>-0.34</td>\n",
       "      <td>1.80</td>\n",
       "      <td>-291943.0</td>\n",
       "    </tr>\n",
       "    <tr>\n",
       "      <th>9</th>\n",
       "      <td>Ethiopia</td>\n",
       "      <td>1.353007</td>\n",
       "      <td>18.655967</td>\n",
       "      <td>1100000.0</td>\n",
       "      <td>115.0</td>\n",
       "      <td>2.52</td>\n",
       "      <td>1.62</td>\n",
       "      <td>1878339.0</td>\n",
       "    </tr>\n",
       "  </tbody>\n",
       "</table>\n",
       "</div>"
      ],
      "text/plain": [
       "    Country Name  Population (Jan 2024)  Population(2023)    Area(km)  \\\n",
       "0          India               2.310328         21.079980   3300000.0   \n",
       "1          China               2.307291         21.077909   9700000.0   \n",
       "2  United States               1.740309         19.644446   9400000.0   \n",
       "3      Indonesia               1.660498         19.441454   1900000.0   \n",
       "4       Pakistan               1.606335         19.298171    881900.0   \n",
       "5        Nigeria               1.578788         19.226284    923800.0   \n",
       "6         Brazil               1.561302         19.192743   8500000.0   \n",
       "7     Bangladesh               1.473452         18.968538    147600.0   \n",
       "8         Russia               1.398869         18.788405  17100000.0   \n",
       "9       Ethiopia               1.353007         18.655967   1100000.0   \n",
       "\n",
       "   Density(/Km)  Growth Rate  World%  population_diff  \n",
       "0         485.0         0.92   18.01        7770230.0  \n",
       "1         151.0        -0.03   17.80        -235139.0  \n",
       "2          37.0         0.53    4.27        1079199.0  \n",
       "3         149.0         0.82    3.50        1349337.0  \n",
       "4         318.0         1.96    3.06        2785018.0  \n",
       "5         252.0         2.39    2.86        3136786.0  \n",
       "6          26.0         0.56    2.72         727156.0  \n",
       "7        1342.0         1.01    2.18        1035400.0  \n",
       "8           9.0        -0.34    1.80        -291943.0  \n",
       "9         115.0         2.52    1.62        1878339.0  "
      ]
     },
     "execution_count": 221,
     "metadata": {},
     "output_type": "execute_result"
    }
   ],
   "source": [
    "wpa.head(10)"
   ]
  },
  {
   "cell_type": "code",
   "execution_count": null,
   "id": "d0c711d1",
   "metadata": {},
   "outputs": [],
   "source": []
  },
  {
   "cell_type": "code",
   "execution_count": 222,
   "id": "4da2979c",
   "metadata": {},
   "outputs": [
    {
     "data": {
      "text/html": [
       "<div>\n",
       "<style scoped>\n",
       "    .dataframe tbody tr th:only-of-type {\n",
       "        vertical-align: middle;\n",
       "    }\n",
       "\n",
       "    .dataframe tbody tr th {\n",
       "        vertical-align: top;\n",
       "    }\n",
       "\n",
       "    .dataframe thead th {\n",
       "        text-align: right;\n",
       "    }\n",
       "</style>\n",
       "<table border=\"1\" class=\"dataframe\">\n",
       "  <thead>\n",
       "    <tr style=\"text-align: right;\">\n",
       "      <th></th>\n",
       "      <th>Country Name</th>\n",
       "      <th>Population (Jan 2024)</th>\n",
       "      <th>Population(2023)</th>\n",
       "      <th>Area(km)</th>\n",
       "      <th>Density(/Km)</th>\n",
       "      <th>Growth Rate</th>\n",
       "      <th>World%</th>\n",
       "      <th>population_diff</th>\n",
       "    </tr>\n",
       "  </thead>\n",
       "  <tbody>\n",
       "    <tr>\n",
       "      <th>224</th>\n",
       "      <td>Nauru</td>\n",
       "      <td>-2.297109</td>\n",
       "      <td>9.455715</td>\n",
       "      <td>739070.111413</td>\n",
       "      <td>644.00</td>\n",
       "      <td>0.810000</td>\n",
       "      <td>0.572768</td>\n",
       "      <td>1.040000e+02</td>\n",
       "    </tr>\n",
       "    <tr>\n",
       "      <th>225</th>\n",
       "      <td>Tuvalu</td>\n",
       "      <td>-2.342918</td>\n",
       "      <td>9.341105</td>\n",
       "      <td>739070.111413</td>\n",
       "      <td>383.00</td>\n",
       "      <td>0.720000</td>\n",
       "      <td>0.572768</td>\n",
       "      <td>8.200000e+01</td>\n",
       "    </tr>\n",
       "    <tr>\n",
       "      <th>226</th>\n",
       "      <td>Wallis and Futuna</td>\n",
       "      <td>-2.344267</td>\n",
       "      <td>9.350363</td>\n",
       "      <td>739070.111413</td>\n",
       "      <td>42.00</td>\n",
       "      <td>-0.550000</td>\n",
       "      <td>0.572768</td>\n",
       "      <td>-6.300000e+01</td>\n",
       "    </tr>\n",
       "    <tr>\n",
       "      <th>227</th>\n",
       "      <td>Saint Barthelemy</td>\n",
       "      <td>0.849867</td>\n",
       "      <td>9.305196</td>\n",
       "      <td>739070.111413</td>\n",
       "      <td>441.00</td>\n",
       "      <td>0.230000</td>\n",
       "      <td>0.572768</td>\n",
       "      <td>3.608189e+07</td>\n",
       "    </tr>\n",
       "    <tr>\n",
       "      <th>228</th>\n",
       "      <td>Saint Pierre and Miquelon</td>\n",
       "      <td>0.849867</td>\n",
       "      <td>8.672657</td>\n",
       "      <td>739070.111413</td>\n",
       "      <td>24.00</td>\n",
       "      <td>-0.430000</td>\n",
       "      <td>0.572768</td>\n",
       "      <td>3.608704e+07</td>\n",
       "    </tr>\n",
       "    <tr>\n",
       "      <th>229</th>\n",
       "      <td>Montserrat</td>\n",
       "      <td>0.849867</td>\n",
       "      <td>8.386401</td>\n",
       "      <td>739070.111413</td>\n",
       "      <td>43.00</td>\n",
       "      <td>-0.320000</td>\n",
       "      <td>0.572768</td>\n",
       "      <td>3.608849e+07</td>\n",
       "    </tr>\n",
       "    <tr>\n",
       "      <th>230</th>\n",
       "      <td>Falkland Islands</td>\n",
       "      <td>0.849867</td>\n",
       "      <td>8.240649</td>\n",
       "      <td>12200.000000</td>\n",
       "      <td>0.31</td>\n",
       "      <td>0.320000</td>\n",
       "      <td>0.572768</td>\n",
       "      <td>3.608909e+07</td>\n",
       "    </tr>\n",
       "    <tr>\n",
       "      <th>231</th>\n",
       "      <td>Niue</td>\n",
       "      <td>-3.048566</td>\n",
       "      <td>7.568379</td>\n",
       "      <td>739070.111413</td>\n",
       "      <td>7.00</td>\n",
       "      <td>0.927974</td>\n",
       "      <td>0.572768</td>\n",
       "      <td>0.000000e+00</td>\n",
       "    </tr>\n",
       "    <tr>\n",
       "      <th>232</th>\n",
       "      <td>Tokelau</td>\n",
       "      <td>0.849867</td>\n",
       "      <td>7.546446</td>\n",
       "      <td>739070.111413</td>\n",
       "      <td>192.00</td>\n",
       "      <td>1.160000</td>\n",
       "      <td>0.572768</td>\n",
       "      <td>3.609099e+07</td>\n",
       "    </tr>\n",
       "    <tr>\n",
       "      <th>233</th>\n",
       "      <td>Vatican City</td>\n",
       "      <td>0.849867</td>\n",
       "      <td>6.251904</td>\n",
       "      <td>0.500000</td>\n",
       "      <td>1195.00</td>\n",
       "      <td>1.540000</td>\n",
       "      <td>0.572768</td>\n",
       "      <td>3.609236e+07</td>\n",
       "    </tr>\n",
       "  </tbody>\n",
       "</table>\n",
       "</div>"
      ],
      "text/plain": [
       "                  Country Name  Population (Jan 2024)  Population(2023)  \\\n",
       "224                      Nauru              -2.297109          9.455715   \n",
       "225                     Tuvalu              -2.342918          9.341105   \n",
       "226          Wallis and Futuna              -2.344267          9.350363   \n",
       "227           Saint Barthelemy               0.849867          9.305196   \n",
       "228  Saint Pierre and Miquelon               0.849867          8.672657   \n",
       "229                 Montserrat               0.849867          8.386401   \n",
       "230           Falkland Islands               0.849867          8.240649   \n",
       "231                       Niue              -3.048566          7.568379   \n",
       "232                    Tokelau               0.849867          7.546446   \n",
       "233               Vatican City               0.849867          6.251904   \n",
       "\n",
       "          Area(km)  Density(/Km)  Growth Rate    World%  population_diff  \n",
       "224  739070.111413        644.00     0.810000  0.572768     1.040000e+02  \n",
       "225  739070.111413        383.00     0.720000  0.572768     8.200000e+01  \n",
       "226  739070.111413         42.00    -0.550000  0.572768    -6.300000e+01  \n",
       "227  739070.111413        441.00     0.230000  0.572768     3.608189e+07  \n",
       "228  739070.111413         24.00    -0.430000  0.572768     3.608704e+07  \n",
       "229  739070.111413         43.00    -0.320000  0.572768     3.608849e+07  \n",
       "230   12200.000000          0.31     0.320000  0.572768     3.608909e+07  \n",
       "231  739070.111413          7.00     0.927974  0.572768     0.000000e+00  \n",
       "232  739070.111413        192.00     1.160000  0.572768     3.609099e+07  \n",
       "233       0.500000       1195.00     1.540000  0.572768     3.609236e+07  "
      ]
     },
     "execution_count": 222,
     "metadata": {},
     "output_type": "execute_result"
    }
   ],
   "source": [
    "wpa.tail(10)"
   ]
  },
  {
   "cell_type": "code",
   "execution_count": 224,
   "id": "5c940527",
   "metadata": {},
   "outputs": [],
   "source": [
    "wpa.to_csv(r\"C:\\Users\\ajay a j\\Downloads\\archive (9)\\Population_cleaned.csv\",index=False)"
   ]
  },
  {
   "cell_type": "code",
   "execution_count": null,
   "id": "20369279",
   "metadata": {},
   "outputs": [],
   "source": []
  }
 ],
 "metadata": {
  "kernelspec": {
   "display_name": "Python 3 (ipykernel)",
   "language": "python",
   "name": "python3"
  },
  "language_info": {
   "codemirror_mode": {
    "name": "ipython",
    "version": 3
   },
   "file_extension": ".py",
   "mimetype": "text/x-python",
   "name": "python",
   "nbconvert_exporter": "python",
   "pygments_lexer": "ipython3",
   "version": "3.10.9"
  }
 },
 "nbformat": 4,
 "nbformat_minor": 5
}
